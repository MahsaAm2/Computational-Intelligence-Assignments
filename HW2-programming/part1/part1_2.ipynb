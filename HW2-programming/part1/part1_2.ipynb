{
  "cells": [
    {
      "cell_type": "markdown",
      "metadata": {
        "id": "pqpbqaDzwUmt"
      },
      "source": [
        "**bold text**"
      ]
    },
    {
      "cell_type": "code",
      "execution_count": null,
      "metadata": {
        "colab": {
          "base_uri": "https://localhost:8080/"
        },
        "id": "CJ8aB9QRwV7V",
        "outputId": "60d904be-0686-4a30-81d4-9a3586c09c3d"
      },
      "outputs": [
        {
          "name": "stdout",
          "output_type": "stream",
          "text": [
            "\u001b[2K     \u001b[90m━━━━━━━━━━━━━━━━━━━━━━━━━━━━━━━━━━━━━━━━\u001b[0m \u001b[32m2.0/2.0 MB\u001b[0m \u001b[31m9.8 MB/s\u001b[0m eta \u001b[36m0:00:00\u001b[0m\n",
            "\u001b[2K     \u001b[90m━━━━━━━━━━━━━━━━━━━━━━━━━━━━━━━━━━━━━━\u001b[0m \u001b[32m184.3/184.3 kB\u001b[0m \u001b[31m10.4 MB/s\u001b[0m eta \u001b[36m0:00:00\u001b[0m\n",
            "\u001b[2K     \u001b[90m━━━━━━━━━━━━━━━━━━━━━━━━━━━━━━━━━━━━━━━\u001b[0m \u001b[32m206.5/206.5 kB\u001b[0m \u001b[31m9.1 MB/s\u001b[0m eta \u001b[36m0:00:00\u001b[0m\n",
            "\u001b[?25h  Preparing metadata (setup.py) ... \u001b[?25l\u001b[?25hdone\n",
            "\u001b[2K     \u001b[90m━━━━━━━━━━━━━━━━━━━━━━━━━━━━━━━━━━━━━━━━\u001b[0m \u001b[32m62.7/62.7 kB\u001b[0m \u001b[31m3.0 MB/s\u001b[0m eta \u001b[36m0:00:00\u001b[0m\n",
            "\u001b[?25h  Building wheel for pathtools (setup.py) ... \u001b[?25l\u001b[?25hdone\n"
          ]
        }
      ],
      "source": [
        "!pip install -q wandb"
      ]
    },
    {
      "cell_type": "code",
      "execution_count": null,
      "metadata": {
        "id": "fwkNpXOuwY9Y"
      },
      "outputs": [],
      "source": [
        "from wandb.keras import WandbCallback\n",
        "from tensorflow.keras.optimizers import *\n",
        "import itertools\n",
        "import gc\n",
        "import wandb\n",
        "import tensorflow as tf\n",
        "from tensorflow.keras.layers import *\n",
        "from tensorflow.keras.optimizers import *\n",
        "from tensorflow.keras.preprocessing.image import ImageDataGenerator\n",
        "from tensorflow.keras.callbacks import *\n",
        "from keras.models import Sequential\n",
        "from keras.layers import Dense, Dropout, Flatten\n",
        "from keras.layers import Conv2D, MaxPooling2D\n",
        "from keras import backend as K\n",
        "from keras.constraints import max_norm\n",
        "from tensorflow import keras\n",
        "import pickle"
      ]
    },
    {
      "cell_type": "code",
      "execution_count": null,
      "metadata": {
        "id": "6Yvpw8LBwb5P"
      },
      "outputs": [],
      "source": [
        "from google.colab import drive\n",
        "drive.mount('/content/gdrive')\n",
        "%cd /content/gdrive/MyDrive/HW02-Practical"
      ]
    },
    {
      "cell_type": "code",
      "execution_count": null,
      "metadata": {
        "colab": {
          "base_uri": "https://localhost:8080/"
        },
        "id": "Bdw5fQQ0wdC5",
        "outputId": "1703b805-5ef9-4e1b-f0d2-c7febce110ea"
      },
      "outputs": [
        {
          "name": "stdout",
          "output_type": "stream",
          "text": [
            "Found 15021 files belonging to 5 classes.\n",
            "Found 5116 files belonging to 5 classes.\n",
            "Found 5010 files belonging to 5 classes.\n"
          ]
        }
      ],
      "source": [
        "dataset_train1 = tf.keras.utils.image_dataset_from_directory('Dataset/train')\n",
        "dataset_test1 = tf.keras.utils.image_dataset_from_directory('Dataset/test')\n",
        "dataset_valid1 = tf.keras.utils.image_dataset_from_directory('Dataset/valid')"
      ]
    },
    {
      "cell_type": "code",
      "execution_count": null,
      "metadata": {
        "id": "IJI-zKoDwhVB"
      },
      "outputs": [],
      "source": [
        "# resize\n",
        "image_size = (28, 28)\n",
        "dataset_train = dataset_train1.map(lambda x, y: (tf.image.resize(x, image_size), y))\n",
        "dataset_test = dataset_test1.map(lambda x, y: (tf.image.resize(x, image_size), y))\n",
        "dataset_valid = dataset_valid1.map(lambda x, y: (tf.image.resize(x, image_size), y))"
      ]
    },
    {
      "cell_type": "code",
      "execution_count": null,
      "metadata": {
        "id": "l53JFdOcwmVn"
      },
      "outputs": [],
      "source": [
        "img_width, img_height         = 28, 28\n",
        "batch_size                    = 250\n",
        "no_epochs                     = 10\n",
        "no_classes                    = 5\n",
        "verbosity                     = 1\n",
        "max_norm_value                = 2.0\n",
        "input_shape = (img_width  , img_height, 3)"
      ]
    },
    {
      "cell_type": "code",
      "execution_count": null,
      "metadata": {
        "id": "5WsOTBRmwqNB"
      },
      "outputs": [],
      "source": [
        " #3e51292cfdf8601e6ff1fbb78e560c288e381156"
      ]
    },
    {
      "cell_type": "code",
      "execution_count": null,
      "metadata": {
        "id": "a0SRXIN-ws9c"
      },
      "outputs": [],
      "source": [
        "def train_opt():\n",
        "    \n",
        "    \n",
        "    hyperparams = dict( \n",
        "        lr=0.001,\n",
        "        dropout=0.6,\n",
        "        batch_size=250,\n",
        "        epochs=10)\n",
        "    \n",
        "    wandb.init(project=\"HW2-opt\", config=hyperparams)\n",
        "    config = wandb.config\n",
        "    \n",
        "\n",
        "    dp = config.dropout         \n",
        "\n",
        "    model = Sequential()\n",
        "    model.add(Conv2D(64, kernel_size=(3, 3), kernel_constraint=max_norm(max_norm_value), activation='relu', input_shape=input_shape))\n",
        "    model.add(MaxPooling2D(pool_size=(2, 2)))\n",
        "    model.add(Dropout(dp))\n",
        "    model.add(Conv2D(64, kernel_size=(3, 3), kernel_constraint=max_norm(max_norm_value), activation='relu'))\n",
        "    model.add(MaxPooling2D(pool_size=(2, 2)))\n",
        "    model.add(Dropout(dp))\n",
        "    model.add(Flatten())\n",
        "    model.add(Dense(256, activation='relu', kernel_constraint=max_norm(max_norm_value)))\n",
        "    model.add(Dense(no_classes, activation='softmax'))\n",
        "    opt = Adam(config.lr)\n",
        " \n",
        "    \n",
        "    \n",
        "    model.compile(optimizer=opt,loss=tf.keras.losses.SparseCategoricalCrossentropy(), metrics=['accuracy'])\n",
        "    \n",
        "    # Set callbacks\n",
        "\n",
        "    callbacks = [\n",
        "        EarlyStopping(monitor='val_loss', patience=15, verbose=1), \n",
        "        ReduceLROnPlateau(monitor='val_accuracy', patience=10, verbose=1, factor=0.5, min_lr=1e-4),\n",
        "        WandbCallback(monitor='val_loss', validation_data=dataset_valid)]  \n",
        "    \n",
        "    results = model.fit(dataset_train, \n",
        "                     batch_size=config.batch_size,    # BATCH_SIZE, \n",
        "                     epochs=config.epochs,            # EPOCHS, \n",
        "                     validation_data=dataset_valid, \n",
        "                     callbacks=callbacks,\n",
        "                     verbose=1) \n",
        "    \n",
        "    with open('/content/gdrive/MyDrive/HW02-Practical/results_wandb.pkl', 'wb') as file:\n",
        "      pickle.dump(results, file)"
      ]
    },
    {
      "cell_type": "code",
      "execution_count": null,
      "metadata": {
        "id": "FBriQ1Ahwvax"
      },
      "outputs": [],
      "source": [
        "sweep_config = {\n",
        "\n",
        "    'method': 'random',         # 'grid', 'hyperopt', 'bayesian'\n",
        "    'metric': {\n",
        "        'name': 'val_loss',     # or 'val_accuracy'\n",
        "        'goal': 'minimize'      # 'maximize'\n",
        "    },\n",
        "    'parameters': {\n",
        "        \n",
        "        'lr': {\n",
        "            'distribution': 'uniform',\n",
        "            'min': 0.0005,\n",
        "            'max': 0.002\n",
        "        },\n",
        "        'dp': {\n",
        "            'values': [0.01,0.1,0.4, 0.5]\n",
        "        }\n",
        "    }\n",
        "}"
      ]
    },
    {
      "cell_type": "code",
      "execution_count": null,
      "metadata": {
        "colab": {
          "base_uri": "https://localhost:8080/",
          "height": 138
        },
        "id": "84yWAR66wyML",
        "outputId": "7ba81564-0ffc-47e4-fb24-de9a8d6d49d0"
      },
      "outputs": [
        {
          "data": {
            "application/javascript": [
              "\n",
              "        window._wandbApiKey = new Promise((resolve, reject) => {\n",
              "            function loadScript(url) {\n",
              "            return new Promise(function(resolve, reject) {\n",
              "                let newScript = document.createElement(\"script\");\n",
              "                newScript.onerror = reject;\n",
              "                newScript.onload = resolve;\n",
              "                document.body.appendChild(newScript);\n",
              "                newScript.src = url;\n",
              "            });\n",
              "            }\n",
              "            loadScript(\"https://cdn.jsdelivr.net/npm/postmate/build/postmate.min.js\").then(() => {\n",
              "            const iframe = document.createElement('iframe')\n",
              "            iframe.style.cssText = \"width:0;height:0;border:none\"\n",
              "            document.body.appendChild(iframe)\n",
              "            const handshake = new Postmate({\n",
              "                container: iframe,\n",
              "                url: 'https://wandb.ai/authorize'\n",
              "            });\n",
              "            const timeout = setTimeout(() => reject(\"Couldn't auto authenticate\"), 5000)\n",
              "            handshake.then(function(child) {\n",
              "                child.on('authorize', data => {\n",
              "                    clearTimeout(timeout)\n",
              "                    resolve(data)\n",
              "                });\n",
              "            });\n",
              "            })\n",
              "        });\n",
              "    "
            ],
            "text/plain": [
              "<IPython.core.display.Javascript object>"
            ]
          },
          "metadata": {},
          "output_type": "display_data"
        },
        {
          "name": "stderr",
          "output_type": "stream",
          "text": [
            "\u001b[34m\u001b[1mwandb\u001b[0m: Logging into wandb.ai. (Learn how to deploy a W&B server locally: https://wandb.me/wandb-server)\n",
            "\u001b[34m\u001b[1mwandb\u001b[0m: You can find your API key in your browser here: https://wandb.ai/authorize\n",
            "wandb: Paste an API key from your profile and hit enter, or press ctrl+c to quit:"
          ]
        },
        {
          "name": "stdout",
          "output_type": "stream",
          "text": [
            " ··········\n"
          ]
        },
        {
          "name": "stderr",
          "output_type": "stream",
          "text": [
            "\u001b[34m\u001b[1mwandb\u001b[0m: Appending key for api.wandb.ai to your netrc file: /root/.netrc\n"
          ]
        },
        {
          "name": "stdout",
          "output_type": "stream",
          "text": [
            "Create sweep with ID: wrmys5kh\n",
            "Sweep URL: https://wandb.ai/mahsaaminiii2222/uncategorized/sweeps/wrmys5kh\n"
          ]
        }
      ],
      "source": [
        "sweep_id = wandb.sweep(sweep_config)"
      ]
    },
    {
      "cell_type": "code",
      "execution_count": null,
      "metadata": {
        "colab": {
          "base_uri": "https://localhost:8080/",
          "height": 1000,
          "referenced_widgets": [
            "cdebda4d22644cd3b639859cfa07f0b4",
            "39a5f617462a43b9b61d9f13d75c079c",
            "88f465fe72164d78b9b00324accbb77d",
            "23436d98645c4104a5d639a1ce75fc49",
            "5b775e3664374781bf6077410a7d88ea",
            "4a0671f51067405fb908fd6da7d400ed",
            "60a99894f89e4ebf8a9b558a4ddd86fa",
            "ce834bb6ef074a979c0c2b036d54e9eb"
          ]
        },
        "id": "zAhaFwcqw1LV",
        "outputId": "c291636e-4ec6-4e49-ceea-04333b2b5406"
      },
      "outputs": [
        {
          "name": "stderr",
          "output_type": "stream",
          "text": [
            "\u001b[34m\u001b[1mwandb\u001b[0m: Agent Starting Run: fdsv8c36 with config:\n",
            "\u001b[34m\u001b[1mwandb\u001b[0m: \tdp: 0.5\n",
            "\u001b[34m\u001b[1mwandb\u001b[0m: \tlr: 0.0012225868694791997\n",
            "\u001b[34m\u001b[1mwandb\u001b[0m: Currently logged in as: \u001b[33mmahsaaminiii2222\u001b[0m. Use \u001b[1m`wandb login --relogin`\u001b[0m to force relogin\n",
            "\u001b[34m\u001b[1mwandb\u001b[0m: \u001b[33mWARNING\u001b[0m Ignored wandb.init() arg project when running a sweep.\n"
          ]
        },
        {
          "data": {
            "text/html": [
              "Tracking run with wandb version 0.15.3"
            ],
            "text/plain": [
              "<IPython.core.display.HTML object>"
            ]
          },
          "metadata": {},
          "output_type": "display_data"
        },
        {
          "data": {
            "text/html": [
              "Run data is saved locally in <code>/content/gdrive/MyDrive/HW02-Practical/wandb/run-20230526_203605-fdsv8c36</code>"
            ],
            "text/plain": [
              "<IPython.core.display.HTML object>"
            ]
          },
          "metadata": {},
          "output_type": "display_data"
        },
        {
          "data": {
            "text/html": [
              "Syncing run <strong><a href='https://wandb.ai/mahsaaminiii2222/uncategorized/runs/fdsv8c36' target=\"_blank\">still-sweep-1</a></strong> to <a href='https://wandb.ai/mahsaaminiii2222/uncategorized' target=\"_blank\">Weights & Biases</a> (<a href='https://wandb.me/run' target=\"_blank\">docs</a>)<br/>Sweep page: <a href='https://wandb.ai/mahsaaminiii2222/uncategorized/sweeps/wrmys5kh' target=\"_blank\">https://wandb.ai/mahsaaminiii2222/uncategorized/sweeps/wrmys5kh</a>"
            ],
            "text/plain": [
              "<IPython.core.display.HTML object>"
            ]
          },
          "metadata": {},
          "output_type": "display_data"
        },
        {
          "data": {
            "text/html": [
              " View project at <a href='https://wandb.ai/mahsaaminiii2222/uncategorized' target=\"_blank\">https://wandb.ai/mahsaaminiii2222/uncategorized</a>"
            ],
            "text/plain": [
              "<IPython.core.display.HTML object>"
            ]
          },
          "metadata": {},
          "output_type": "display_data"
        },
        {
          "data": {
            "text/html": [
              " View sweep at <a href='https://wandb.ai/mahsaaminiii2222/uncategorized/sweeps/wrmys5kh' target=\"_blank\">https://wandb.ai/mahsaaminiii2222/uncategorized/sweeps/wrmys5kh</a>"
            ],
            "text/plain": [
              "<IPython.core.display.HTML object>"
            ]
          },
          "metadata": {},
          "output_type": "display_data"
        },
        {
          "data": {
            "text/html": [
              " View run at <a href='https://wandb.ai/mahsaaminiii2222/uncategorized/runs/fdsv8c36' target=\"_blank\">https://wandb.ai/mahsaaminiii2222/uncategorized/runs/fdsv8c36</a>"
            ],
            "text/plain": [
              "<IPython.core.display.HTML object>"
            ]
          },
          "metadata": {},
          "output_type": "display_data"
        },
        {
          "name": "stderr",
          "output_type": "stream",
          "text": [
            "\u001b[34m\u001b[1mwandb\u001b[0m: \u001b[33mWARNING\u001b[0m The save_model argument by default saves the model in the HDF5 format that cannot save custom objects like subclassed models and custom layers. This behavior will be deprecated in a future release in favor of the SavedModel format. Meanwhile, the HDF5 model is saved as W&B files and the SavedModel as W&B Artifacts.\n"
          ]
        },
        {
          "name": "stdout",
          "output_type": "stream",
          "text": [
            "Epoch 1/10\n",
            "469/470 [============================>.] - ETA: 7s - loss: 4.7024 - accuracy: 0.2326 "
          ]
        },
        {
          "name": "stderr",
          "output_type": "stream",
          "text": [
            "WARNING:absl:Found untraced functions such as _jit_compiled_convolution_op, _jit_compiled_convolution_op, _update_step_xla while saving (showing 3 of 3). These functions will not be directly callable after loading.\n",
            "\u001b[34m\u001b[1mwandb\u001b[0m: Adding directory to artifact (/content/gdrive/MyDrive/HW02-Practical/wandb/run-20230526_203605-fdsv8c36/files/model-best)... Done. 0.1s\n"
          ]
        },
        {
          "name": "stdout",
          "output_type": "stream",
          "text": [
            "\b\b\b\b\b\b\b\b\b\b\b\b\b\b\b\b\b\b\b\b\b\b\b\b\b\b\b\b\b\b\b\b\b\b\b\b\b\b\b\b\b\b\b\b\b\b\b\b\b\b\b\b\b\b\b\b\b\b\b\b\b\b\b\b\b\b\b\b\b\b\b\b\b\b\b\b\b\b\b\b\b\b\b\b\r",
            "470/470 [==============================] - 5009s 11s/step - loss: 4.6998 - accuracy: 0.2327 - val_loss: 1.6114 - val_accuracy: 0.1996 - lr: 0.0012\n",
            "Epoch 2/10\n",
            "470/470 [==============================] - 78s 165ms/step - loss: 1.6057 - accuracy: 0.2526 - val_loss: 1.6143 - val_accuracy: 0.2066 - lr: 0.0012\n",
            "Epoch 3/10\n",
            "469/470 [============================>.] - ETA: 0s - loss: 1.5630 - accuracy: 0.3138"
          ]
        },
        {
          "name": "stderr",
          "output_type": "stream",
          "text": [
            "WARNING:absl:Found untraced functions such as _jit_compiled_convolution_op, _jit_compiled_convolution_op, _update_step_xla while saving (showing 3 of 3). These functions will not be directly callable after loading.\n",
            "\u001b[34m\u001b[1mwandb\u001b[0m: Adding directory to artifact (/content/gdrive/MyDrive/HW02-Practical/wandb/run-20230526_203605-fdsv8c36/files/model-best)... Done. 0.0s\n"
          ]
        },
        {
          "name": "stdout",
          "output_type": "stream",
          "text": [
            "\b\b\b\b\b\b\b\b\b\b\b\b\b\b\b\b\b\b\b\b\b\b\b\b\b\b\b\b\b\b\b\b\b\b\b\b\b\b\b\b\b\b\b\b\b\b\b\b\b\b\b\b\b\b\b\b\b\b\b\b\b\b\b\b\b\b\b\b\b\b\b\b\b\b\b\b\b\b\b\b\b\b\b\b\r",
            "470/470 [==============================] - 88s 185ms/step - loss: 1.5629 - accuracy: 0.3140 - val_loss: 1.5788 - val_accuracy: 0.2707 - lr: 0.0012\n",
            "Epoch 4/10\n",
            "469/470 [============================>.] - ETA: 0s - loss: 1.4537 - accuracy: 0.3936"
          ]
        },
        {
          "name": "stderr",
          "output_type": "stream",
          "text": [
            "WARNING:absl:Found untraced functions such as _jit_compiled_convolution_op, _jit_compiled_convolution_op, _update_step_xla while saving (showing 3 of 3). These functions will not be directly callable after loading.\n",
            "\u001b[34m\u001b[1mwandb\u001b[0m: Adding directory to artifact (/content/gdrive/MyDrive/HW02-Practical/wandb/run-20230526_203605-fdsv8c36/files/model-best)... Done. 0.0s\n"
          ]
        },
        {
          "name": "stdout",
          "output_type": "stream",
          "text": [
            "\b\b\b\b\b\b\b\b\b\b\b\b\b\b\b\b\b\b\b\b\b\b\b\b\b\b\b\b\b\b\b\b\b\b\b\b\b\b\b\b\b\b\b\b\b\b\b\b\b\b\b\b\b\b\b\b\b\b\b\b\b\b\b\b\b\b\b\b\b\b\b\b\b\b\b\b\b\b\b\b\b\b\b\b\r",
            "470/470 [==============================] - 78s 164ms/step - loss: 1.4536 - accuracy: 0.3936 - val_loss: 1.4489 - val_accuracy: 0.3926 - lr: 0.0012\n",
            "Epoch 5/10\n",
            "469/470 [============================>.] - ETA: 0s - loss: 1.2726 - accuracy: 0.4656"
          ]
        },
        {
          "name": "stderr",
          "output_type": "stream",
          "text": [
            "WARNING:absl:Found untraced functions such as _jit_compiled_convolution_op, _jit_compiled_convolution_op, _update_step_xla while saving (showing 3 of 3). These functions will not be directly callable after loading.\n",
            "\u001b[34m\u001b[1mwandb\u001b[0m: Adding directory to artifact (/content/gdrive/MyDrive/HW02-Practical/wandb/run-20230526_203605-fdsv8c36/files/model-best)... Done. 0.0s\n"
          ]
        },
        {
          "name": "stdout",
          "output_type": "stream",
          "text": [
            "\b\b\b\b\b\b\b\b\b\b\b\b\b\b\b\b\b\b\b\b\b\b\b\b\b\b\b\b\b\b\b\b\b\b\b\b\b\b\b\b\b\b\b\b\b\b\b\b\b\b\b\b\b\b\b\b\b\b\b\b\b\b\b\b\b\b\b\b\b\b\b\b\b\b\b\b\b\b\b\b\b\b\b\b\r",
            "470/470 [==============================] - 88s 185ms/step - loss: 1.2726 - accuracy: 0.4654 - val_loss: 1.2931 - val_accuracy: 0.4719 - lr: 0.0012\n",
            "Epoch 6/10\n",
            "469/470 [============================>.] - ETA: 0s - loss: 1.2178 - accuracy: 0.4925"
          ]
        },
        {
          "name": "stderr",
          "output_type": "stream",
          "text": [
            "WARNING:absl:Found untraced functions such as _jit_compiled_convolution_op, _jit_compiled_convolution_op, _update_step_xla while saving (showing 3 of 3). These functions will not be directly callable after loading.\n",
            "\u001b[34m\u001b[1mwandb\u001b[0m: Adding directory to artifact (/content/gdrive/MyDrive/HW02-Practical/wandb/run-20230526_203605-fdsv8c36/files/model-best)... Done. 0.0s\n"
          ]
        },
        {
          "name": "stdout",
          "output_type": "stream",
          "text": [
            "\b\b\b\b\b\b\b\b\b\b\b\b\b\b\b\b\b\b\b\b\b\b\b\b\b\b\b\b\b\b\b\b\b\b\b\b\b\b\b\b\b\b\b\b\b\b\b\b\b\b\b\b\b\b\b\b\b\b\b\b\b\b\b\b\b\b\b\b\b\b\b\b\b\b\b\b\b\b\b\b\b\b\b\b\r",
            "470/470 [==============================] - 86s 182ms/step - loss: 1.2180 - accuracy: 0.4922 - val_loss: 1.2082 - val_accuracy: 0.5557 - lr: 0.0012\n",
            "Epoch 7/10\n",
            "469/470 [============================>.] - ETA: 0s - loss: 1.0989 - accuracy: 0.5565"
          ]
        },
        {
          "name": "stderr",
          "output_type": "stream",
          "text": [
            "WARNING:absl:Found untraced functions such as _jit_compiled_convolution_op, _jit_compiled_convolution_op, _update_step_xla while saving (showing 3 of 3). These functions will not be directly callable after loading.\n",
            "\u001b[34m\u001b[1mwandb\u001b[0m: Adding directory to artifact (/content/gdrive/MyDrive/HW02-Practical/wandb/run-20230526_203605-fdsv8c36/files/model-best)... Done. 0.1s\n"
          ]
        },
        {
          "name": "stdout",
          "output_type": "stream",
          "text": [
            "\b\b\b\b\b\b\b\b\b\b\b\b\b\b\b\b\b\b\b\b\b\b\b\b\b\b\b\b\b\b\b\b\b\b\b\b\b\b\b\b\b\b\b\b\b\b\b\b\b\b\b\b\b\b\b\b\b\b\b\b\b\b\b\b\b\b\b\b\b\b\b\b\b\b\b\b\b\b\b\b\b\b\b\b\r",
            "470/470 [==============================] - 84s 177ms/step - loss: 1.0987 - accuracy: 0.5568 - val_loss: 1.1672 - val_accuracy: 0.5762 - lr: 0.0012\n",
            "Epoch 8/10\n",
            "469/470 [============================>.] - ETA: 0s - loss: 1.0414 - accuracy: 0.5890"
          ]
        },
        {
          "name": "stderr",
          "output_type": "stream",
          "text": [
            "WARNING:absl:Found untraced functions such as _jit_compiled_convolution_op, _jit_compiled_convolution_op, _update_step_xla while saving (showing 3 of 3). These functions will not be directly callable after loading.\n",
            "\u001b[34m\u001b[1mwandb\u001b[0m: Adding directory to artifact (/content/gdrive/MyDrive/HW02-Practical/wandb/run-20230526_203605-fdsv8c36/files/model-best)... Done. 0.1s\n"
          ]
        },
        {
          "name": "stdout",
          "output_type": "stream",
          "text": [
            "\b\b\b\b\b\b\b\b\b\b\b\b\b\b\b\b\b\b\b\b\b\b\b\b\b\b\b\b\b\b\b\b\b\b\b\b\b\b\b\b\b\b\b\b\b\b\b\b\b\b\b\b\b\b\b\b\b\b\b\b\b\b\b\b\b\b\b\b\b\b\b\b\b\b\b\b\b\b\b\b\b\b\b\b\r",
            "470/470 [==============================] - 86s 181ms/step - loss: 1.0414 - accuracy: 0.5890 - val_loss: 1.1051 - val_accuracy: 0.5950 - lr: 0.0012\n",
            "Epoch 9/10\n",
            "469/470 [============================>.] - ETA: 0s - loss: 0.9834 - accuracy: 0.6139"
          ]
        },
        {
          "name": "stderr",
          "output_type": "stream",
          "text": [
            "WARNING:absl:Found untraced functions such as _jit_compiled_convolution_op, _jit_compiled_convolution_op, _update_step_xla while saving (showing 3 of 3). These functions will not be directly callable after loading.\n",
            "\u001b[34m\u001b[1mwandb\u001b[0m: Adding directory to artifact (/content/gdrive/MyDrive/HW02-Practical/wandb/run-20230526_203605-fdsv8c36/files/model-best)... Done. 0.0s\n"
          ]
        },
        {
          "name": "stdout",
          "output_type": "stream",
          "text": [
            "\b\b\b\b\b\b\b\b\b\b\b\b\b\b\b\b\b\b\b\b\b\b\b\b\b\b\b\b\b\b\b\b\b\b\b\b\b\b\b\b\b\b\b\b\b\b\b\b\b\b\b\b\b\b\b\b\b\b\b\b\b\b\b\b\b\b\b\b\b\b\b\b\b\b\b\b\b\b\b\b\b\b\b\b\r",
            "470/470 [==============================] - 92s 195ms/step - loss: 0.9831 - accuracy: 0.6141 - val_loss: 1.0728 - val_accuracy: 0.6279 - lr: 0.0012\n",
            "Epoch 10/10\n",
            "469/470 [============================>.] - ETA: 0s - loss: 0.9555 - accuracy: 0.6276"
          ]
        },
        {
          "name": "stderr",
          "output_type": "stream",
          "text": [
            "WARNING:absl:Found untraced functions such as _jit_compiled_convolution_op, _jit_compiled_convolution_op, _update_step_xla while saving (showing 3 of 3). These functions will not be directly callable after loading.\n",
            "\u001b[34m\u001b[1mwandb\u001b[0m: Adding directory to artifact (/content/gdrive/MyDrive/HW02-Practical/wandb/run-20230526_203605-fdsv8c36/files/model-best)... Done. 0.0s\n"
          ]
        },
        {
          "name": "stdout",
          "output_type": "stream",
          "text": [
            "\b\b\b\b\b\b\b\b\b\b\b\b\b\b\b\b\b\b\b\b\b\b\b\b\b\b\b\b\b\b\b\b\b\b\b\b\b\b\b\b\b\b\b\b\b\b\b\b\b\b\b\b\b\b\b\b\b\b\b\b\b\b\b\b\b\b\b\b\b\b\b\b\b\b\b\b\b\b\b\b\b\b\b\b\r",
            "470/470 [==============================] - 82s 173ms/step - loss: 0.9556 - accuracy: 0.6273 - val_loss: 1.0717 - val_accuracy: 0.6433 - lr: 0.0012\n"
          ]
        },
        {
          "data": {
            "text/html": [
              "Waiting for W&B process to finish... <strong style=\"color:green\">(success).</strong>"
            ],
            "text/plain": [
              "<IPython.core.display.HTML object>"
            ]
          },
          "metadata": {},
          "output_type": "display_data"
        },
        {
          "data": {
            "text/html": [
              "<style>\n",
              "    table.wandb td:nth-child(1) { padding: 0 10px; text-align: left ; width: auto;} td:nth-child(2) {text-align: left ; width: 100%}\n",
              "    .wandb-row { display: flex; flex-direction: row; flex-wrap: wrap; justify-content: flex-start; width: 100% }\n",
              "    .wandb-col { display: flex; flex-direction: column; flex-basis: 100%; flex: 1; padding: 10px; }\n",
              "    </style>\n",
              "<div class=\"wandb-row\"><div class=\"wandb-col\"><h3>Run history:</h3><br/><table class=\"wandb\"><tr><td>accuracy</td><td>▁▁▂▄▅▆▇▇██</td></tr><tr><td>epoch</td><td>▁▂▃▃▄▅▆▆▇█</td></tr><tr><td>loss</td><td>█▂▂▂▂▁▁▁▁▁</td></tr><tr><td>lr</td><td>▁▁▁▁▁▁▁▁▁▁</td></tr><tr><td>val_accuracy</td><td>▁▁▂▄▅▇▇▇██</td></tr><tr><td>val_loss</td><td>███▆▄▃▂▁▁▁</td></tr></table><br/></div><div class=\"wandb-col\"><h3>Run summary:</h3><br/><table class=\"wandb\"><tr><td>accuracy</td><td>0.62732</td></tr><tr><td>best_epoch</td><td>9</td></tr><tr><td>best_val_loss</td><td>1.07168</td></tr><tr><td>epoch</td><td>9</td></tr><tr><td>loss</td><td>0.95558</td></tr><tr><td>lr</td><td>0.00122</td></tr><tr><td>val_accuracy</td><td>0.64331</td></tr><tr><td>val_loss</td><td>1.07168</td></tr></table><br/></div></div>"
            ],
            "text/plain": [
              "<IPython.core.display.HTML object>"
            ]
          },
          "metadata": {},
          "output_type": "display_data"
        },
        {
          "data": {
            "text/html": [
              " View run <strong style=\"color:#cdcd00\">still-sweep-1</strong> at: <a href='https://wandb.ai/mahsaaminiii2222/uncategorized/runs/fdsv8c36' target=\"_blank\">https://wandb.ai/mahsaaminiii2222/uncategorized/runs/fdsv8c36</a><br/>Synced 5 W&B file(s), 1 media file(s), 45 artifact file(s) and 1 other file(s)"
            ],
            "text/plain": [
              "<IPython.core.display.HTML object>"
            ]
          },
          "metadata": {},
          "output_type": "display_data"
        },
        {
          "data": {
            "text/html": [
              "Find logs at: <code>./wandb/run-20230526_203605-fdsv8c36/logs</code>"
            ],
            "text/plain": [
              "<IPython.core.display.HTML object>"
            ]
          },
          "metadata": {},
          "output_type": "display_data"
        },
        {
          "name": "stderr",
          "output_type": "stream",
          "text": [
            "\u001b[34m\u001b[1mwandb\u001b[0m: Sweep Agent: Waiting for job.\n",
            "\u001b[34m\u001b[1mwandb\u001b[0m: Job received.\n",
            "\u001b[34m\u001b[1mwandb\u001b[0m: Agent Starting Run: gmgu74h5 with config:\n",
            "\u001b[34m\u001b[1mwandb\u001b[0m: \tdp: 0.5\n",
            "\u001b[34m\u001b[1mwandb\u001b[0m: \tlr: 0.0011462624035629577\n",
            "\u001b[34m\u001b[1mwandb\u001b[0m: \u001b[33mWARNING\u001b[0m Ignored wandb.init() arg project when running a sweep.\n"
          ]
        },
        {
          "data": {
            "application/vnd.jupyter.widget-view+json": {
              "model_id": "cdebda4d22644cd3b639859cfa07f0b4",
              "version_major": 2,
              "version_minor": 0
            },
            "text/plain": [
              "VBox(children=(Label(value='Waiting for wandb.init()...\\r'), FloatProgress(value=0.01667122950001006, max=1.0)…"
            ]
          },
          "metadata": {},
          "output_type": "display_data"
        },
        {
          "data": {
            "text/html": [
              "Tracking run with wandb version 0.15.3"
            ],
            "text/plain": [
              "<IPython.core.display.HTML object>"
            ]
          },
          "metadata": {},
          "output_type": "display_data"
        },
        {
          "data": {
            "text/html": [
              "Run data is saved locally in <code>/content/gdrive/MyDrive/HW02-Practical/wandb/run-20230526_221531-gmgu74h5</code>"
            ],
            "text/plain": [
              "<IPython.core.display.HTML object>"
            ]
          },
          "metadata": {},
          "output_type": "display_data"
        },
        {
          "data": {
            "text/html": [
              "Syncing run <strong><a href='https://wandb.ai/mahsaaminiii2222/uncategorized/runs/gmgu74h5' target=\"_blank\">tough-sweep-2</a></strong> to <a href='https://wandb.ai/mahsaaminiii2222/uncategorized' target=\"_blank\">Weights & Biases</a> (<a href='https://wandb.me/run' target=\"_blank\">docs</a>)<br/>Sweep page: <a href='https://wandb.ai/mahsaaminiii2222/uncategorized/sweeps/wrmys5kh' target=\"_blank\">https://wandb.ai/mahsaaminiii2222/uncategorized/sweeps/wrmys5kh</a>"
            ],
            "text/plain": [
              "<IPython.core.display.HTML object>"
            ]
          },
          "metadata": {},
          "output_type": "display_data"
        },
        {
          "data": {
            "text/html": [
              " View project at <a href='https://wandb.ai/mahsaaminiii2222/uncategorized' target=\"_blank\">https://wandb.ai/mahsaaminiii2222/uncategorized</a>"
            ],
            "text/plain": [
              "<IPython.core.display.HTML object>"
            ]
          },
          "metadata": {},
          "output_type": "display_data"
        },
        {
          "data": {
            "text/html": [
              " View sweep at <a href='https://wandb.ai/mahsaaminiii2222/uncategorized/sweeps/wrmys5kh' target=\"_blank\">https://wandb.ai/mahsaaminiii2222/uncategorized/sweeps/wrmys5kh</a>"
            ],
            "text/plain": [
              "<IPython.core.display.HTML object>"
            ]
          },
          "metadata": {},
          "output_type": "display_data"
        },
        {
          "data": {
            "text/html": [
              " View run at <a href='https://wandb.ai/mahsaaminiii2222/uncategorized/runs/gmgu74h5' target=\"_blank\">https://wandb.ai/mahsaaminiii2222/uncategorized/runs/gmgu74h5</a>"
            ],
            "text/plain": [
              "<IPython.core.display.HTML object>"
            ]
          },
          "metadata": {},
          "output_type": "display_data"
        },
        {
          "name": "stdout",
          "output_type": "stream",
          "text": [
            "Epoch 1/10\n",
            "469/470 [============================>.] - ETA: 0s - loss: 4.4670 - accuracy: 0.2571"
          ]
        },
        {
          "name": "stderr",
          "output_type": "stream",
          "text": [
            "WARNING:absl:Found untraced functions such as _jit_compiled_convolution_op, _jit_compiled_convolution_op, _update_step_xla while saving (showing 3 of 3). These functions will not be directly callable after loading.\n",
            "\u001b[34m\u001b[1mwandb\u001b[0m: Adding directory to artifact (/content/gdrive/MyDrive/HW02-Practical/wandb/run-20230526_221531-gmgu74h5/files/model-best)... Done. 0.0s\n"
          ]
        },
        {
          "name": "stdout",
          "output_type": "stream",
          "text": [
            "\b\b\b\b\b\b\b\b\b\b\b\b\b\b\b\b\b\b\b\b\b\b\b\b\b\b\b\b\b\b\b\b\b\b\b\b\b\b\b\b\b\b\b\b\b\b\b\b\b\b\b\b\b\b\b\b\b\b\b\b\b\b\b\b\b\b\b\b\b\b\b\b\b\b\b\b\b\b\b\b\b\b\b\b\r",
            "470/470 [==============================] - 83s 173ms/step - loss: 4.4644 - accuracy: 0.2571 - val_loss: 1.6134 - val_accuracy: 0.2070 - lr: 0.0011\n",
            "Epoch 2/10\n",
            "469/470 [============================>.] - ETA: 0s - loss: 1.5472 - accuracy: 0.3390"
          ]
        },
        {
          "name": "stderr",
          "output_type": "stream",
          "text": [
            "WARNING:absl:Found untraced functions such as _jit_compiled_convolution_op, _jit_compiled_convolution_op, _update_step_xla while saving (showing 3 of 3). These functions will not be directly callable after loading.\n",
            "\u001b[34m\u001b[1mwandb\u001b[0m: Adding directory to artifact (/content/gdrive/MyDrive/HW02-Practical/wandb/run-20230526_221531-gmgu74h5/files/model-best)... Done. 0.0s\n"
          ]
        },
        {
          "name": "stdout",
          "output_type": "stream",
          "text": [
            "\b\b\b\b\b\b\b\b\b\b\b\b\b\b\b\b\b\b\b\b\b\b\b\b\b\b\b\b\b\b\b\b\b\b\b\b\b\b\b\b\b\b\b\b\b\b\b\b\b\b\b\b\b\b\b\b\b\b\b\b\b\b\b\b\b\b\b\b\b\b\b\b\b\b\b\b\b\b\b\b\b\b\b\b\r",
            "470/470 [==============================] - 87s 183ms/step - loss: 1.5473 - accuracy: 0.3389 - val_loss: 1.5463 - val_accuracy: 0.3070 - lr: 0.0011\n",
            "Epoch 3/10\n",
            "469/470 [============================>.] - ETA: 0s - loss: 1.4324 - accuracy: 0.4005"
          ]
        },
        {
          "name": "stderr",
          "output_type": "stream",
          "text": [
            "WARNING:absl:Found untraced functions such as _jit_compiled_convolution_op, _jit_compiled_convolution_op, _update_step_xla while saving (showing 3 of 3). These functions will not be directly callable after loading.\n",
            "\u001b[34m\u001b[1mwandb\u001b[0m: Adding directory to artifact (/content/gdrive/MyDrive/HW02-Practical/wandb/run-20230526_221531-gmgu74h5/files/model-best)... Done. 0.1s\n"
          ]
        },
        {
          "name": "stdout",
          "output_type": "stream",
          "text": [
            "\b\b\b\b\b\b\b\b\b\b\b\b\b\b\b\b\b\b\b\b\b\b\b\b\b\b\b\b\b\b\b\b\b\b\b\b\b\b\b\b\b\b\b\b\b\b\b\b\b\b\b\b\b\b\b\b\b\b\b\b\b\b\b\b\b\b\b\b\b\b\b\b\b\b\b\b\b\b\b\b\b\b\b\b\r",
            "470/470 [==============================] - 90s 191ms/step - loss: 1.4324 - accuracy: 0.4005 - val_loss: 1.3512 - val_accuracy: 0.4269 - lr: 0.0011\n",
            "Epoch 4/10\n",
            "469/470 [============================>.] - ETA: 0s - loss: 1.3028 - accuracy: 0.4471"
          ]
        },
        {
          "name": "stderr",
          "output_type": "stream",
          "text": [
            "WARNING:absl:Found untraced functions such as _jit_compiled_convolution_op, _jit_compiled_convolution_op, _update_step_xla while saving (showing 3 of 3). These functions will not be directly callable after loading.\n",
            "\u001b[34m\u001b[1mwandb\u001b[0m: Adding directory to artifact (/content/gdrive/MyDrive/HW02-Practical/wandb/run-20230526_221531-gmgu74h5/files/model-best)... Done. 0.1s\n"
          ]
        },
        {
          "name": "stdout",
          "output_type": "stream",
          "text": [
            "\b\b\b\b\b\b\b\b\b\b\b\b\b\b\b\b\b\b\b\b\b\b\b\b\b\b\b\b\b\b\b\b\b\b\b\b\b\b\b\b\b\b\b\b\b\b\b\b\b\b\b\b\b\b\b\b\b\b\b\b\b\b\b\b\b\b\b\b\b\b\b\b\b\b\b\b\b\b\b\b\b\b\b\b\r",
            "470/470 [==============================] - 87s 183ms/step - loss: 1.3027 - accuracy: 0.4472 - val_loss: 1.2852 - val_accuracy: 0.4737 - lr: 0.0011\n",
            "Epoch 5/10\n",
            "469/470 [============================>.] - ETA: 0s - loss: 1.2518 - accuracy: 0.4699"
          ]
        },
        {
          "name": "stderr",
          "output_type": "stream",
          "text": [
            "WARNING:absl:Found untraced functions such as _jit_compiled_convolution_op, _jit_compiled_convolution_op, _update_step_xla while saving (showing 3 of 3). These functions will not be directly callable after loading.\n",
            "\u001b[34m\u001b[1mwandb\u001b[0m: Adding directory to artifact (/content/gdrive/MyDrive/HW02-Practical/wandb/run-20230526_221531-gmgu74h5/files/model-best)... Done. 0.1s\n"
          ]
        },
        {
          "name": "stdout",
          "output_type": "stream",
          "text": [
            "\b\b\b\b\b\b\b\b\b\b\b\b\b\b\b\b\b\b\b\b\b\b\b\b\b\b\b\b\b\b\b\b\b\b\b\b\b\b\b\b\b\b\b\b\b\b\b\b\b\b\b\b\b\b\b\b\b\b\b\b\b\b\b\b\b\b\b\b\b\b\b\b\b\b\b\b\b\b\b\b\b\b\b\b\r",
            "470/470 [==============================] - 92s 194ms/step - loss: 1.2517 - accuracy: 0.4699 - val_loss: 1.2385 - val_accuracy: 0.4367 - lr: 0.0011\n",
            "Epoch 6/10\n",
            "469/470 [============================>.] - ETA: 0s - loss: 1.2115 - accuracy: 0.4959"
          ]
        },
        {
          "name": "stderr",
          "output_type": "stream",
          "text": [
            "WARNING:absl:Found untraced functions such as _jit_compiled_convolution_op, _jit_compiled_convolution_op, _update_step_xla while saving (showing 3 of 3). These functions will not be directly callable after loading.\n",
            "\u001b[34m\u001b[1mwandb\u001b[0m: Adding directory to artifact (/content/gdrive/MyDrive/HW02-Practical/wandb/run-20230526_221531-gmgu74h5/files/model-best)... Done. 0.0s\n"
          ]
        },
        {
          "name": "stdout",
          "output_type": "stream",
          "text": [
            "\b\b\b\b\b\b\b\b\b\b\b\b\b\b\b\b\b\b\b\b\b\b\b\b\b\b\b\b\b\b\b\b\b\b\b\b\b\b\b\b\b\b\b\b\b\b\b\b\b\b\b\b\b\b\b\b\b\b\b\b\b\b\b\b\b\b\b\b\b\b\b\b\b\b\b\b\b\b\b\b\b\b\b\b\r",
            "470/470 [==============================] - 82s 172ms/step - loss: 1.2112 - accuracy: 0.4960 - val_loss: 1.2333 - val_accuracy: 0.5088 - lr: 0.0011\n",
            "Epoch 7/10\n",
            "469/470 [============================>.] - ETA: 0s - loss: 1.0884 - accuracy: 0.5687"
          ]
        },
        {
          "name": "stderr",
          "output_type": "stream",
          "text": [
            "WARNING:absl:Found untraced functions such as _jit_compiled_convolution_op, _jit_compiled_convolution_op, _update_step_xla while saving (showing 3 of 3). These functions will not be directly callable after loading.\n",
            "\u001b[34m\u001b[1mwandb\u001b[0m: Adding directory to artifact (/content/gdrive/MyDrive/HW02-Practical/wandb/run-20230526_221531-gmgu74h5/files/model-best)... Done. 0.0s\n"
          ]
        },
        {
          "name": "stdout",
          "output_type": "stream",
          "text": [
            "\b\b\b\b\b\b\b\b\b\b\b\b\b\b\b\b\b\b\b\b\b\b\b\b\b\b\b\b\b\b\b\b\b\b\b\b\b\b\b\b\b\b\b\b\b\b\b\b\b\b\b\b\b\b\b\b\b\b\b\b\b\b\b\b\b\b\b\b\b\b\b\b\b\b\b\b\b\b\b\b\b\b\b\b\r",
            "470/470 [==============================] - 93s 196ms/step - loss: 1.0881 - accuracy: 0.5689 - val_loss: 1.0556 - val_accuracy: 0.6146 - lr: 0.0011\n",
            "Epoch 8/10\n",
            "470/470 [==============================] - 87s 182ms/step - loss: 0.9826 - accuracy: 0.6150 - val_loss: 1.0633 - val_accuracy: 0.6275 - lr: 0.0011\n",
            "Epoch 9/10\n",
            "469/470 [============================>.] - ETA: 0s - loss: 0.9371 - accuracy: 0.6397"
          ]
        },
        {
          "name": "stderr",
          "output_type": "stream",
          "text": [
            "WARNING:absl:Found untraced functions such as _jit_compiled_convolution_op, _jit_compiled_convolution_op, _update_step_xla while saving (showing 3 of 3). These functions will not be directly callable after loading.\n",
            "\u001b[34m\u001b[1mwandb\u001b[0m: Adding directory to artifact (/content/gdrive/MyDrive/HW02-Practical/wandb/run-20230526_221531-gmgu74h5/files/model-best)... Done. 0.1s\n"
          ]
        },
        {
          "name": "stdout",
          "output_type": "stream",
          "text": [
            "\b\b\b\b\b\b\b\b\b\b\b\b\b\b\b\b\b\b\b\b\b\b\b\b\b\b\b\b\b\b\b\b\b\b\b\b\b\b\b\b\b\b\b\b\b\b\b\b\b\b\b\b\b\b\b\b\b\b\b\b\b\b\b\b\b\b\b\b\b\b\b\b\b\b\b\b\b\b\b\b\b\b\b\b\r",
            "470/470 [==============================] - 90s 190ms/step - loss: 0.9371 - accuracy: 0.6397 - val_loss: 0.9834 - val_accuracy: 0.6439 - lr: 0.0011\n",
            "Epoch 10/10\n",
            "470/470 [==============================] - ETA: 0s - loss: 0.8836 - accuracy: 0.6598"
          ]
        },
        {
          "name": "stderr",
          "output_type": "stream",
          "text": [
            "WARNING:absl:Found untraced functions such as _jit_compiled_convolution_op, _jit_compiled_convolution_op, _update_step_xla while saving (showing 3 of 3). These functions will not be directly callable after loading.\n",
            "\u001b[34m\u001b[1mwandb\u001b[0m: Adding directory to artifact (/content/gdrive/MyDrive/HW02-Practical/wandb/run-20230526_221531-gmgu74h5/files/model-best)... Done. 0.1s\n"
          ]
        },
        {
          "name": "stdout",
          "output_type": "stream",
          "text": [
            "\b\b\b\b\b\b\b\b\b\b\b\b\b\b\b\b\b\b\b\b\b\b\b\b\b\b\b\b\b\b\b\b\b\b\b\b\b\b\b\b\b\b\b\b\b\b\b\b\b\b\b\b\b\b\b\b\b\b\b\b\b\b\b\b\b\b\b\b\b\b\b\b\b\b\b\b\b\b\b\b\b\b\b\b\r",
            "470/470 [==============================] - 82s 172ms/step - loss: 0.8836 - accuracy: 0.6598 - val_loss: 0.9559 - val_accuracy: 0.6820 - lr: 0.0011\n"
          ]
        },
        {
          "data": {
            "text/html": [
              "Waiting for W&B process to finish... <strong style=\"color:green\">(success).</strong>"
            ],
            "text/plain": [
              "<IPython.core.display.HTML object>"
            ]
          },
          "metadata": {},
          "output_type": "display_data"
        },
        {
          "data": {
            "text/html": [
              "<style>\n",
              "    table.wandb td:nth-child(1) { padding: 0 10px; text-align: left ; width: auto;} td:nth-child(2) {text-align: left ; width: 100%}\n",
              "    .wandb-row { display: flex; flex-direction: row; flex-wrap: wrap; justify-content: flex-start; width: 100% }\n",
              "    .wandb-col { display: flex; flex-direction: column; flex-basis: 100%; flex: 1; padding: 10px; }\n",
              "    </style>\n",
              "<div class=\"wandb-row\"><div class=\"wandb-col\"><h3>Run history:</h3><br/><table class=\"wandb\"><tr><td>accuracy</td><td>▁▂▃▄▅▅▆▇██</td></tr><tr><td>epoch</td><td>▁▂▃▃▄▅▆▆▇█</td></tr><tr><td>loss</td><td>█▂▂▂▂▂▁▁▁▁</td></tr><tr><td>lr</td><td>▁▁▁▁▁▁▁▁▁▁</td></tr><tr><td>val_accuracy</td><td>▁▂▄▅▄▅▇▇▇█</td></tr><tr><td>val_loss</td><td>█▇▅▅▄▄▂▂▁▁</td></tr></table><br/></div><div class=\"wandb-col\"><h3>Run summary:</h3><br/><table class=\"wandb\"><tr><td>accuracy</td><td>0.65981</td></tr><tr><td>best_epoch</td><td>9</td></tr><tr><td>best_val_loss</td><td>0.95589</td></tr><tr><td>epoch</td><td>9</td></tr><tr><td>loss</td><td>0.88355</td></tr><tr><td>lr</td><td>0.00115</td></tr><tr><td>val_accuracy</td><td>0.68204</td></tr><tr><td>val_loss</td><td>0.95589</td></tr></table><br/></div></div>"
            ],
            "text/plain": [
              "<IPython.core.display.HTML object>"
            ]
          },
          "metadata": {},
          "output_type": "display_data"
        },
        {
          "data": {
            "text/html": [
              " View run <strong style=\"color:#cdcd00\">tough-sweep-2</strong> at: <a href='https://wandb.ai/mahsaaminiii2222/uncategorized/runs/gmgu74h5' target=\"_blank\">https://wandb.ai/mahsaaminiii2222/uncategorized/runs/gmgu74h5</a><br/>Synced 5 W&B file(s), 1 media file(s), 45 artifact file(s) and 1 other file(s)"
            ],
            "text/plain": [
              "<IPython.core.display.HTML object>"
            ]
          },
          "metadata": {},
          "output_type": "display_data"
        },
        {
          "data": {
            "text/html": [
              "Find logs at: <code>./wandb/run-20230526_221531-gmgu74h5/logs</code>"
            ],
            "text/plain": [
              "<IPython.core.display.HTML object>"
            ]
          },
          "metadata": {},
          "output_type": "display_data"
        },
        {
          "name": "stderr",
          "output_type": "stream",
          "text": [
            "\u001b[34m\u001b[1mwandb\u001b[0m: Agent Starting Run: abcqcyys with config:\n",
            "\u001b[34m\u001b[1mwandb\u001b[0m: \tdp: 0.1\n",
            "\u001b[34m\u001b[1mwandb\u001b[0m: \tlr: 0.0018673447502163805\n",
            "\u001b[34m\u001b[1mwandb\u001b[0m: \u001b[33mWARNING\u001b[0m Ignored wandb.init() arg project when running a sweep.\n"
          ]
        },
        {
          "data": {
            "text/html": [
              "Tracking run with wandb version 0.15.3"
            ],
            "text/plain": [
              "<IPython.core.display.HTML object>"
            ]
          },
          "metadata": {},
          "output_type": "display_data"
        },
        {
          "data": {
            "text/html": [
              "Run data is saved locally in <code>/content/gdrive/MyDrive/HW02-Practical/wandb/run-20230526_223408-abcqcyys</code>"
            ],
            "text/plain": [
              "<IPython.core.display.HTML object>"
            ]
          },
          "metadata": {},
          "output_type": "display_data"
        },
        {
          "data": {
            "text/html": [
              "Syncing run <strong><a href='https://wandb.ai/mahsaaminiii2222/uncategorized/runs/abcqcyys' target=\"_blank\">noble-sweep-3</a></strong> to <a href='https://wandb.ai/mahsaaminiii2222/uncategorized' target=\"_blank\">Weights & Biases</a> (<a href='https://wandb.me/run' target=\"_blank\">docs</a>)<br/>Sweep page: <a href='https://wandb.ai/mahsaaminiii2222/uncategorized/sweeps/wrmys5kh' target=\"_blank\">https://wandb.ai/mahsaaminiii2222/uncategorized/sweeps/wrmys5kh</a>"
            ],
            "text/plain": [
              "<IPython.core.display.HTML object>"
            ]
          },
          "metadata": {},
          "output_type": "display_data"
        },
        {
          "data": {
            "text/html": [
              " View project at <a href='https://wandb.ai/mahsaaminiii2222/uncategorized' target=\"_blank\">https://wandb.ai/mahsaaminiii2222/uncategorized</a>"
            ],
            "text/plain": [
              "<IPython.core.display.HTML object>"
            ]
          },
          "metadata": {},
          "output_type": "display_data"
        },
        {
          "data": {
            "text/html": [
              " View sweep at <a href='https://wandb.ai/mahsaaminiii2222/uncategorized/sweeps/wrmys5kh' target=\"_blank\">https://wandb.ai/mahsaaminiii2222/uncategorized/sweeps/wrmys5kh</a>"
            ],
            "text/plain": [
              "<IPython.core.display.HTML object>"
            ]
          },
          "metadata": {},
          "output_type": "display_data"
        },
        {
          "data": {
            "text/html": [
              " View run at <a href='https://wandb.ai/mahsaaminiii2222/uncategorized/runs/abcqcyys' target=\"_blank\">https://wandb.ai/mahsaaminiii2222/uncategorized/runs/abcqcyys</a>"
            ],
            "text/plain": [
              "<IPython.core.display.HTML object>"
            ]
          },
          "metadata": {},
          "output_type": "display_data"
        },
        {
          "name": "stdout",
          "output_type": "stream",
          "text": [
            "Epoch 1/10\n",
            "470/470 [==============================] - ETA: 0s - loss: 4.6393 - accuracy: 0.2064"
          ]
        },
        {
          "name": "stderr",
          "output_type": "stream",
          "text": [
            "WARNING:absl:Found untraced functions such as _jit_compiled_convolution_op, _jit_compiled_convolution_op, _update_step_xla while saving (showing 3 of 3). These functions will not be directly callable after loading.\n",
            "\u001b[34m\u001b[1mwandb\u001b[0m: Adding directory to artifact (/content/gdrive/MyDrive/HW02-Practical/wandb/run-20230526_223408-abcqcyys/files/model-best)... Done. 0.1s\n"
          ]
        },
        {
          "name": "stdout",
          "output_type": "stream",
          "text": [
            "\b\b\b\b\b\b\b\b\b\b\b\b\b\b\b\b\b\b\b\b\b\b\b\b\b\b\b\b\b\b\b\b\b\b\b\b\b\b\b\b\b\b\b\b\b\b\b\b\b\b\b\b\b\b\b\b\b\b\b\b\b\b\b\b\b\b\b\b\b\b\b\b\b\b\b\b\b\b\b\b\b\b\b\b\r",
            "470/470 [==============================] - 91s 190ms/step - loss: 4.6393 - accuracy: 0.2064 - val_loss: 1.6098 - val_accuracy: 0.1996 - lr: 0.0019\n",
            "Epoch 2/10\n",
            "470/470 [==============================] - 88s 185ms/step - loss: 1.6064 - accuracy: 0.2345 - val_loss: 1.6112 - val_accuracy: 0.1998 - lr: 0.0019\n",
            "Epoch 3/10\n",
            "470/470 [==============================] - 87s 184ms/step - loss: 1.6006 - accuracy: 0.2498 - val_loss: 1.6127 - val_accuracy: 0.2008 - lr: 0.0019\n",
            "Epoch 4/10\n",
            "470/470 [==============================] - 90s 188ms/step - loss: 1.6005 - accuracy: 0.2521 - val_loss: 1.6140 - val_accuracy: 0.2014 - lr: 0.0019\n",
            "Epoch 5/10\n",
            "469/470 [============================>.] - ETA: 0s - loss: 1.5839 - accuracy: 0.2923"
          ]
        },
        {
          "name": "stderr",
          "output_type": "stream",
          "text": [
            "WARNING:absl:Found untraced functions such as _jit_compiled_convolution_op, _jit_compiled_convolution_op, _update_step_xla while saving (showing 3 of 3). These functions will not be directly callable after loading.\n",
            "\u001b[34m\u001b[1mwandb\u001b[0m: Adding directory to artifact (/content/gdrive/MyDrive/HW02-Practical/wandb/run-20230526_223408-abcqcyys/files/model-best)... Done. 0.1s\n"
          ]
        },
        {
          "name": "stdout",
          "output_type": "stream",
          "text": [
            "\b\b\b\b\b\b\b\b\b\b\b\b\b\b\b\b\b\b\b\b\b\b\b\b\b\b\b\b\b\b\b\b\b\b\b\b\b\b\b\b\b\b\b\b\b\b\b\b\b\b\b\b\b\b\b\b\b\b\b\b\b\b\b\b\b\b\b\b\b\b\b\b\b\b\b\b\b\b\b\b\b\b\b\b\r",
            "470/470 [==============================] - 89s 187ms/step - loss: 1.5839 - accuracy: 0.2924 - val_loss: 1.6058 - val_accuracy: 0.2301 - lr: 0.0019\n",
            "Epoch 6/10\n",
            "469/470 [============================>.] - ETA: 0s - loss: 1.4224 - accuracy: 0.4156"
          ]
        },
        {
          "name": "stderr",
          "output_type": "stream",
          "text": [
            "WARNING:absl:Found untraced functions such as _jit_compiled_convolution_op, _jit_compiled_convolution_op, _update_step_xla while saving (showing 3 of 3). These functions will not be directly callable after loading.\n",
            "\u001b[34m\u001b[1mwandb\u001b[0m: Adding directory to artifact (/content/gdrive/MyDrive/HW02-Practical/wandb/run-20230526_223408-abcqcyys/files/model-best)... Done. 0.1s\n"
          ]
        },
        {
          "name": "stdout",
          "output_type": "stream",
          "text": [
            "\b\b\b\b\b\b\b\b\b\b\b\b\b\b\b\b\b\b\b\b\b\b\b\b\b\b\b\b\b\b\b\b\b\b\b\b\b\b\b\b\b\b\b\b\b\b\b\b\b\b\b\b\b\b\b\b\b\b\b\b\b\b\b\b\b\b\b\b\b\b\b\b\b\b\b\b\b\b\b\b\b\b\b\b\r",
            "470/470 [==============================] - 91s 193ms/step - loss: 1.4224 - accuracy: 0.4158 - val_loss: 1.3115 - val_accuracy: 0.4822 - lr: 0.0019\n",
            "Epoch 7/10\n",
            "469/470 [============================>.] - ETA: 0s - loss: 1.1268 - accuracy: 0.5504"
          ]
        },
        {
          "name": "stderr",
          "output_type": "stream",
          "text": [
            "WARNING:absl:Found untraced functions such as _jit_compiled_convolution_op, _jit_compiled_convolution_op, _update_step_xla while saving (showing 3 of 3). These functions will not be directly callable after loading.\n",
            "\u001b[34m\u001b[1mwandb\u001b[0m: Adding directory to artifact (/content/gdrive/MyDrive/HW02-Practical/wandb/run-20230526_223408-abcqcyys/files/model-best)... Done. 0.1s\n"
          ]
        },
        {
          "name": "stdout",
          "output_type": "stream",
          "text": [
            "\b\b\b\b\b\b\b\b\b\b\b\b\b\b\b\b\b\b\b\b\b\b\b\b\b\b\b\b\b\b\b\b\b\b\b\b\b\b\b\b\b\b\b\b\b\b\b\b\b\b\b\b\b\b\b\b\b\b\b\b\b\b\b\b\b\b\b\b\b\b\b\b\b\b\b\b\b\b\b\b\b\b\b\b\r",
            "470/470 [==============================] - 95s 199ms/step - loss: 1.1267 - accuracy: 0.5504 - val_loss: 1.1943 - val_accuracy: 0.5806 - lr: 0.0019\n",
            "Epoch 8/10\n",
            "470/470 [==============================] - ETA: 0s - loss: 1.0376 - accuracy: 0.5932"
          ]
        },
        {
          "name": "stderr",
          "output_type": "stream",
          "text": [
            "WARNING:absl:Found untraced functions such as _jit_compiled_convolution_op, _jit_compiled_convolution_op, _update_step_xla while saving (showing 3 of 3). These functions will not be directly callable after loading.\n",
            "\u001b[34m\u001b[1mwandb\u001b[0m: Adding directory to artifact (/content/gdrive/MyDrive/HW02-Practical/wandb/run-20230526_223408-abcqcyys/files/model-best)... Done. 0.0s\n"
          ]
        },
        {
          "name": "stdout",
          "output_type": "stream",
          "text": [
            "\b\b\b\b\b\b\b\b\b\b\b\b\b\b\b\b\b\b\b\b\b\b\b\b\b\b\b\b\b\b\b\b\b\b\b\b\b\b\b\b\b\b\b\b\b\b\b\b\b\b\b\b\b\b\b\b\b\b\b\b\b\b\b\b\b\b\b\b\b\b\b\b\b\b\b\b\b\b\b\b\b\b\b\b\r",
            "470/470 [==============================] - 90s 191ms/step - loss: 1.0376 - accuracy: 0.5932 - val_loss: 1.1779 - val_accuracy: 0.5842 - lr: 0.0019\n",
            "Epoch 9/10\n",
            "469/470 [============================>.] - ETA: 0s - loss: 0.9810 - accuracy: 0.6184"
          ]
        },
        {
          "name": "stderr",
          "output_type": "stream",
          "text": [
            "WARNING:absl:Found untraced functions such as _jit_compiled_convolution_op, _jit_compiled_convolution_op, _update_step_xla while saving (showing 3 of 3). These functions will not be directly callable after loading.\n",
            "\u001b[34m\u001b[1mwandb\u001b[0m: Adding directory to artifact (/content/gdrive/MyDrive/HW02-Practical/wandb/run-20230526_223408-abcqcyys/files/model-best)... Done. 0.1s\n"
          ]
        },
        {
          "name": "stdout",
          "output_type": "stream",
          "text": [
            "\b\b\b\b\b\b\b\b\b\b\b\b\b\b\b\b\b\b\b\b\b\b\b\b\b\b\b\b\b\b\b\b\b\b\b\b\b\b\b\b\b\b\b\b\b\b\b\b\b\b\b\b\b\b\b\b\b\b\b\b\b\b\b\b\b\b\b\b\b\b\b\b\b\b\b\b\b\b\b\b\b\b\b\b\r",
            "470/470 [==============================] - 90s 190ms/step - loss: 0.9812 - accuracy: 0.6182 - val_loss: 1.1460 - val_accuracy: 0.5924 - lr: 0.0019\n",
            "Epoch 10/10\n",
            "469/470 [============================>.] - ETA: 0s - loss: 0.9371 - accuracy: 0.6366"
          ]
        },
        {
          "name": "stderr",
          "output_type": "stream",
          "text": [
            "WARNING:absl:Found untraced functions such as _jit_compiled_convolution_op, _jit_compiled_convolution_op, _update_step_xla while saving (showing 3 of 3). These functions will not be directly callable after loading.\n",
            "\u001b[34m\u001b[1mwandb\u001b[0m: Adding directory to artifact (/content/gdrive/MyDrive/HW02-Practical/wandb/run-20230526_223408-abcqcyys/files/model-best)... Done. 0.0s\n"
          ]
        },
        {
          "name": "stdout",
          "output_type": "stream",
          "text": [
            "\b\b\b\b\b\b\b\b\b\b\b\b\b\b\b\b\b\b\b\b\b\b\b\b\b\b\b\b\b\b\b\b\b\b\b\b\b\b\b\b\b\b\b\b\b\b\b\b\b\b\b\b\b\b\b\b\b\b\b\b\b\b\b\b\b\b\b\b\b\b\b\b\b\b\b\b\b\b\b\b\b\b\b\b\r",
            "470/470 [==============================] - 94s 198ms/step - loss: 0.9370 - accuracy: 0.6366 - val_loss: 1.0586 - val_accuracy: 0.6864 - lr: 0.0019\n"
          ]
        },
        {
          "data": {
            "text/html": [
              "Waiting for W&B process to finish... <strong style=\"color:green\">(success).</strong>"
            ],
            "text/plain": [
              "<IPython.core.display.HTML object>"
            ]
          },
          "metadata": {},
          "output_type": "display_data"
        },
        {
          "data": {
            "text/html": [
              "<style>\n",
              "    table.wandb td:nth-child(1) { padding: 0 10px; text-align: left ; width: auto;} td:nth-child(2) {text-align: left ; width: 100%}\n",
              "    .wandb-row { display: flex; flex-direction: row; flex-wrap: wrap; justify-content: flex-start; width: 100% }\n",
              "    .wandb-col { display: flex; flex-direction: column; flex-basis: 100%; flex: 1; padding: 10px; }\n",
              "    </style>\n",
              "<div class=\"wandb-row\"><div class=\"wandb-col\"><h3>Run history:</h3><br/><table class=\"wandb\"><tr><td>accuracy</td><td>▁▁▂▂▂▄▇▇██</td></tr><tr><td>epoch</td><td>▁▂▃▃▄▅▆▆▇█</td></tr><tr><td>loss</td><td>█▂▂▂▂▂▁▁▁▁</td></tr><tr><td>lr</td><td>▁▁▁▁▁▁▁▁▁▁</td></tr><tr><td>val_accuracy</td><td>▁▁▁▁▁▅▆▇▇█</td></tr><tr><td>val_loss</td><td>█████▄▃▃▂▁</td></tr></table><br/></div><div class=\"wandb-col\"><h3>Run summary:</h3><br/><table class=\"wandb\"><tr><td>accuracy</td><td>0.63658</td></tr><tr><td>best_epoch</td><td>9</td></tr><tr><td>best_val_loss</td><td>1.05862</td></tr><tr><td>epoch</td><td>9</td></tr><tr><td>loss</td><td>0.93699</td></tr><tr><td>lr</td><td>0.00187</td></tr><tr><td>val_accuracy</td><td>0.68643</td></tr><tr><td>val_loss</td><td>1.05862</td></tr></table><br/></div></div>"
            ],
            "text/plain": [
              "<IPython.core.display.HTML object>"
            ]
          },
          "metadata": {},
          "output_type": "display_data"
        },
        {
          "data": {
            "text/html": [
              " View run <strong style=\"color:#cdcd00\">noble-sweep-3</strong> at: <a href='https://wandb.ai/mahsaaminiii2222/uncategorized/runs/abcqcyys' target=\"_blank\">https://wandb.ai/mahsaaminiii2222/uncategorized/runs/abcqcyys</a><br/>Synced 5 W&B file(s), 1 media file(s), 35 artifact file(s) and 1 other file(s)"
            ],
            "text/plain": [
              "<IPython.core.display.HTML object>"
            ]
          },
          "metadata": {},
          "output_type": "display_data"
        },
        {
          "data": {
            "text/html": [
              "Find logs at: <code>./wandb/run-20230526_223408-abcqcyys/logs</code>"
            ],
            "text/plain": [
              "<IPython.core.display.HTML object>"
            ]
          },
          "metadata": {},
          "output_type": "display_data"
        }
      ],
      "source": [
        "wandb.agent(sweep_id, function=train_opt, count=3)  "
      ]
    },
    {
      "cell_type": "markdown",
      "source": [
        "![g.png](data:image/png;base64,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)"
      ],
      "metadata": {
        "id": "yFJRl6swm9fT"
      }
    },
    {
      "cell_type": "code",
      "source": [],
      "metadata": {
        "id": "o-kybhQNnDMi"
      },
      "execution_count": null,
      "outputs": []
    }
  ],
  "metadata": {
    "colab": {
      "provenance": []
    },
    "kernelspec": {
      "display_name": "Python 3 (ipykernel)",
      "language": "python",
      "name": "python3"
    },
    "language_info": {
      "codemirror_mode": {
        "name": "ipython",
        "version": 3
      },
      "file_extension": ".py",
      "mimetype": "text/x-python",
      "name": "python",
      "nbconvert_exporter": "python",
      "pygments_lexer": "ipython3",
      "version": "3.9.7"
    },
    "widgets": {
      "application/vnd.jupyter.widget-state+json": {
        "23436d98645c4104a5d639a1ce75fc49": {
          "model_module": "@jupyter-widgets/base",
          "model_module_version": "1.2.0",
          "model_name": "LayoutModel",
          "state": {
            "_model_module": "@jupyter-widgets/base",
            "_model_module_version": "1.2.0",
            "_model_name": "LayoutModel",
            "_view_count": null,
            "_view_module": "@jupyter-widgets/base",
            "_view_module_version": "1.2.0",
            "_view_name": "LayoutView",
            "align_content": null,
            "align_items": null,
            "align_self": null,
            "border": null,
            "bottom": null,
            "display": null,
            "flex": null,
            "flex_flow": null,
            "grid_area": null,
            "grid_auto_columns": null,
            "grid_auto_flow": null,
            "grid_auto_rows": null,
            "grid_column": null,
            "grid_gap": null,
            "grid_row": null,
            "grid_template_areas": null,
            "grid_template_columns": null,
            "grid_template_rows": null,
            "height": null,
            "justify_content": null,
            "justify_items": null,
            "left": null,
            "margin": null,
            "max_height": null,
            "max_width": null,
            "min_height": null,
            "min_width": null,
            "object_fit": null,
            "object_position": null,
            "order": null,
            "overflow": null,
            "overflow_x": null,
            "overflow_y": null,
            "padding": null,
            "right": null,
            "top": null,
            "visibility": null,
            "width": null
          }
        },
        "39a5f617462a43b9b61d9f13d75c079c": {
          "model_module": "@jupyter-widgets/controls",
          "model_module_version": "1.5.0",
          "model_name": "LabelModel",
          "state": {
            "_dom_classes": [],
            "_model_module": "@jupyter-widgets/controls",
            "_model_module_version": "1.5.0",
            "_model_name": "LabelModel",
            "_view_count": null,
            "_view_module": "@jupyter-widgets/controls",
            "_view_module_version": "1.5.0",
            "_view_name": "LabelView",
            "description": "",
            "description_tooltip": null,
            "layout": "IPY_MODEL_5b775e3664374781bf6077410a7d88ea",
            "placeholder": "​",
            "style": "IPY_MODEL_4a0671f51067405fb908fd6da7d400ed",
            "value": "Waiting for wandb.init()...\r"
          }
        },
        "4a0671f51067405fb908fd6da7d400ed": {
          "model_module": "@jupyter-widgets/controls",
          "model_module_version": "1.5.0",
          "model_name": "DescriptionStyleModel",
          "state": {
            "_model_module": "@jupyter-widgets/controls",
            "_model_module_version": "1.5.0",
            "_model_name": "DescriptionStyleModel",
            "_view_count": null,
            "_view_module": "@jupyter-widgets/base",
            "_view_module_version": "1.2.0",
            "_view_name": "StyleView",
            "description_width": ""
          }
        },
        "5b775e3664374781bf6077410a7d88ea": {
          "model_module": "@jupyter-widgets/base",
          "model_module_version": "1.2.0",
          "model_name": "LayoutModel",
          "state": {
            "_model_module": "@jupyter-widgets/base",
            "_model_module_version": "1.2.0",
            "_model_name": "LayoutModel",
            "_view_count": null,
            "_view_module": "@jupyter-widgets/base",
            "_view_module_version": "1.2.0",
            "_view_name": "LayoutView",
            "align_content": null,
            "align_items": null,
            "align_self": null,
            "border": null,
            "bottom": null,
            "display": null,
            "flex": null,
            "flex_flow": null,
            "grid_area": null,
            "grid_auto_columns": null,
            "grid_auto_flow": null,
            "grid_auto_rows": null,
            "grid_column": null,
            "grid_gap": null,
            "grid_row": null,
            "grid_template_areas": null,
            "grid_template_columns": null,
            "grid_template_rows": null,
            "height": null,
            "justify_content": null,
            "justify_items": null,
            "left": null,
            "margin": null,
            "max_height": null,
            "max_width": null,
            "min_height": null,
            "min_width": null,
            "object_fit": null,
            "object_position": null,
            "order": null,
            "overflow": null,
            "overflow_x": null,
            "overflow_y": null,
            "padding": null,
            "right": null,
            "top": null,
            "visibility": null,
            "width": null
          }
        },
        "60a99894f89e4ebf8a9b558a4ddd86fa": {
          "model_module": "@jupyter-widgets/base",
          "model_module_version": "1.2.0",
          "model_name": "LayoutModel",
          "state": {
            "_model_module": "@jupyter-widgets/base",
            "_model_module_version": "1.2.0",
            "_model_name": "LayoutModel",
            "_view_count": null,
            "_view_module": "@jupyter-widgets/base",
            "_view_module_version": "1.2.0",
            "_view_name": "LayoutView",
            "align_content": null,
            "align_items": null,
            "align_self": null,
            "border": null,
            "bottom": null,
            "display": null,
            "flex": null,
            "flex_flow": null,
            "grid_area": null,
            "grid_auto_columns": null,
            "grid_auto_flow": null,
            "grid_auto_rows": null,
            "grid_column": null,
            "grid_gap": null,
            "grid_row": null,
            "grid_template_areas": null,
            "grid_template_columns": null,
            "grid_template_rows": null,
            "height": null,
            "justify_content": null,
            "justify_items": null,
            "left": null,
            "margin": null,
            "max_height": null,
            "max_width": null,
            "min_height": null,
            "min_width": null,
            "object_fit": null,
            "object_position": null,
            "order": null,
            "overflow": null,
            "overflow_x": null,
            "overflow_y": null,
            "padding": null,
            "right": null,
            "top": null,
            "visibility": null,
            "width": null
          }
        },
        "88f465fe72164d78b9b00324accbb77d": {
          "model_module": "@jupyter-widgets/controls",
          "model_module_version": "1.5.0",
          "model_name": "FloatProgressModel",
          "state": {
            "_dom_classes": [],
            "_model_module": "@jupyter-widgets/controls",
            "_model_module_version": "1.5.0",
            "_model_name": "FloatProgressModel",
            "_view_count": null,
            "_view_module": "@jupyter-widgets/controls",
            "_view_module_version": "1.5.0",
            "_view_name": "ProgressView",
            "bar_style": "",
            "description": "",
            "description_tooltip": null,
            "layout": "IPY_MODEL_60a99894f89e4ebf8a9b558a4ddd86fa",
            "max": 1,
            "min": 0,
            "orientation": "horizontal",
            "style": "IPY_MODEL_ce834bb6ef074a979c0c2b036d54e9eb",
            "value": 1
          }
        },
        "cdebda4d22644cd3b639859cfa07f0b4": {
          "model_module": "@jupyter-widgets/controls",
          "model_module_version": "1.5.0",
          "model_name": "VBoxModel",
          "state": {
            "_dom_classes": [],
            "_model_module": "@jupyter-widgets/controls",
            "_model_module_version": "1.5.0",
            "_model_name": "VBoxModel",
            "_view_count": null,
            "_view_module": "@jupyter-widgets/controls",
            "_view_module_version": "1.5.0",
            "_view_name": "VBoxView",
            "box_style": "",
            "children": [
              "IPY_MODEL_39a5f617462a43b9b61d9f13d75c079c",
              "IPY_MODEL_88f465fe72164d78b9b00324accbb77d"
            ],
            "layout": "IPY_MODEL_23436d98645c4104a5d639a1ce75fc49"
          }
        },
        "ce834bb6ef074a979c0c2b036d54e9eb": {
          "model_module": "@jupyter-widgets/controls",
          "model_module_version": "1.5.0",
          "model_name": "ProgressStyleModel",
          "state": {
            "_model_module": "@jupyter-widgets/controls",
            "_model_module_version": "1.5.0",
            "_model_name": "ProgressStyleModel",
            "_view_count": null,
            "_view_module": "@jupyter-widgets/base",
            "_view_module_version": "1.2.0",
            "_view_name": "StyleView",
            "bar_color": null,
            "description_width": ""
          }
        }
      }
    }
  },
  "nbformat": 4,
  "nbformat_minor": 0
}