{
 "cells": [
  {
   "cell_type": "code",
   "execution_count": 1,
   "id": "86030443",
   "metadata": {},
   "outputs": [],
   "source": [
    "import numpy as np\n",
    "import pandas as pd\n",
    "import matplotlib.pyplot as plt\n",
    "from numpy import log,dot,exp,shape"
   ]
  },
  {
   "cell_type": "code",
   "execution_count": 2,
   "id": "568df859",
   "metadata": {},
   "outputs": [],
   "source": [
    "def sigmoid(z):\n",
    "    sig = 1/(1+exp(-z))\n",
    "    return sig"
   ]
  },
  {
   "cell_type": "code",
   "execution_count": 3,
   "id": "8843a67b",
   "metadata": {},
   "outputs": [],
   "source": [
    "def cost(X,y,w):\n",
    "    z = dot(X,w)\n",
    "    c =(y.T.dot(log(sigmoid(z))))+((1-y).T.dot(log(1-sigmoid(z))))\n",
    "    c = -c/len(y)\n",
    "    return c"
   ]
  },
  {
   "cell_type": "code",
   "execution_count": 4,
   "id": "78143a4b",
   "metadata": {},
   "outputs": [],
   "source": [
    "def predict(X,weights,add_intercept):\n",
    "    if add_intercept:\n",
    "         X = np.c_[np.ones((np.shape(X)[0],1)),X]\n",
    "             \n",
    "    z = dot(X,weights)\n",
    "    lis = []\n",
    "    for i in sigmoid(z):\n",
    "        if i>0.5:\n",
    "            lis.append(1)\n",
    "        else:\n",
    "            lis.append(0)\n",
    "    return lis"
   ]
  },
  {
   "cell_type": "code",
   "execution_count": 5,
   "id": "b5aa8c40",
   "metadata": {},
   "outputs": [],
   "source": [
    "def logistic_regression(X, y, learning_rate, num_iterations, add_intercept):\n",
    "    \n",
    "    #initializing parameters\n",
    "    \n",
    "    if add_intercept:\n",
    "        #with bias\n",
    "        weights = np.zeros((np.shape(X)[1]+1,1))\n",
    "        X = np.c_[np.ones((np.shape(X)[0],1)),X]\n",
    "       \n",
    "      \n",
    "    else:\n",
    "        #without bias\n",
    "         weights = np.zeros((np.shape(X)[1],1))\n",
    "    \n",
    "   \n",
    "    cost_list = []\n",
    "    c=0\n",
    "  \n",
    "            \n",
    "    for i in range(num_iterations): \n",
    "        weights = weights - (learning_rate*(dot(X.T,sigmoid(dot(X,weights))-np.reshape(y,(len(y),1)))))\n",
    "        c=cost(X,y,weights)\n",
    "        cost_list.append(c)\n",
    "    \n",
    "        \n",
    "    return weights,cost_list "
   ]
  },
  {
   "cell_type": "markdown",
   "id": "d9bf1379",
   "metadata": {},
   "source": [
    "#### read data"
   ]
  },
  {
   "cell_type": "code",
   "execution_count": 6,
   "id": "9f5f7129",
   "metadata": {},
   "outputs": [],
   "source": [
    "data_train = pd.read_csv('clean1.data')\n",
    "data_test = pd.read_csv('clean2.data')\n",
    "data_train =data_train.drop(['MUSK-188', '188_1+1'], axis=1)\n",
    "data_test =data_test.drop(['MUSK-211', '211_1+1'], axis=1)\n",
    "X_train,y_train = data_train.drop('1.',axis=1),data_train['1.']\n",
    "y_train =y_train.to_numpy()\n",
    "X_test,y_test = data_test.drop('1.',axis=1),data_test['1.']\n",
    "y_test =y_test.to_numpy()"
   ]
  },
  {
   "cell_type": "code",
   "execution_count": 7,
   "id": "73aab5c1",
   "metadata": {},
   "outputs": [
    {
     "data": {
      "text/html": [
       "<div>\n",
       "<style scoped>\n",
       "    .dataframe tbody tr th:only-of-type {\n",
       "        vertical-align: middle;\n",
       "    }\n",
       "\n",
       "    .dataframe tbody tr th {\n",
       "        vertical-align: top;\n",
       "    }\n",
       "\n",
       "    .dataframe thead th {\n",
       "        text-align: right;\n",
       "    }\n",
       "</style>\n",
       "<table border=\"1\" class=\"dataframe\">\n",
       "  <thead>\n",
       "    <tr style=\"text-align: right;\">\n",
       "      <th></th>\n",
       "      <th>42</th>\n",
       "      <th>-198</th>\n",
       "      <th>-109</th>\n",
       "      <th>-75</th>\n",
       "      <th>-117</th>\n",
       "      <th>11</th>\n",
       "      <th>23</th>\n",
       "      <th>-88</th>\n",
       "      <th>-28</th>\n",
       "      <th>-27</th>\n",
       "      <th>...</th>\n",
       "      <th>-74</th>\n",
       "      <th>-129</th>\n",
       "      <th>-120.2</th>\n",
       "      <th>-38.1</th>\n",
       "      <th>30</th>\n",
       "      <th>48.1</th>\n",
       "      <th>-37.2</th>\n",
       "      <th>6.1</th>\n",
       "      <th>30.1</th>\n",
       "      <th>1.</th>\n",
       "    </tr>\n",
       "  </thead>\n",
       "  <tbody>\n",
       "    <tr>\n",
       "      <th>0</th>\n",
       "      <td>42</td>\n",
       "      <td>-191</td>\n",
       "      <td>-142</td>\n",
       "      <td>-65</td>\n",
       "      <td>-117</td>\n",
       "      <td>55</td>\n",
       "      <td>49</td>\n",
       "      <td>-170</td>\n",
       "      <td>-45</td>\n",
       "      <td>5</td>\n",
       "      <td>...</td>\n",
       "      <td>-302</td>\n",
       "      <td>60</td>\n",
       "      <td>-120</td>\n",
       "      <td>-39</td>\n",
       "      <td>31</td>\n",
       "      <td>48</td>\n",
       "      <td>-37</td>\n",
       "      <td>5</td>\n",
       "      <td>30</td>\n",
       "      <td>1.0</td>\n",
       "    </tr>\n",
       "    <tr>\n",
       "      <th>1</th>\n",
       "      <td>42</td>\n",
       "      <td>-191</td>\n",
       "      <td>-142</td>\n",
       "      <td>-75</td>\n",
       "      <td>-117</td>\n",
       "      <td>11</td>\n",
       "      <td>49</td>\n",
       "      <td>-161</td>\n",
       "      <td>-45</td>\n",
       "      <td>-28</td>\n",
       "      <td>...</td>\n",
       "      <td>-73</td>\n",
       "      <td>-127</td>\n",
       "      <td>-120</td>\n",
       "      <td>-38</td>\n",
       "      <td>30</td>\n",
       "      <td>48</td>\n",
       "      <td>-37</td>\n",
       "      <td>5</td>\n",
       "      <td>31</td>\n",
       "      <td>1.0</td>\n",
       "    </tr>\n",
       "    <tr>\n",
       "      <th>2</th>\n",
       "      <td>42</td>\n",
       "      <td>-198</td>\n",
       "      <td>-110</td>\n",
       "      <td>-65</td>\n",
       "      <td>-117</td>\n",
       "      <td>55</td>\n",
       "      <td>23</td>\n",
       "      <td>-95</td>\n",
       "      <td>-28</td>\n",
       "      <td>5</td>\n",
       "      <td>...</td>\n",
       "      <td>-302</td>\n",
       "      <td>60</td>\n",
       "      <td>-120</td>\n",
       "      <td>-39</td>\n",
       "      <td>30</td>\n",
       "      <td>48</td>\n",
       "      <td>-37</td>\n",
       "      <td>6</td>\n",
       "      <td>30</td>\n",
       "      <td>1.0</td>\n",
       "    </tr>\n",
       "    <tr>\n",
       "      <th>3</th>\n",
       "      <td>42</td>\n",
       "      <td>-198</td>\n",
       "      <td>-102</td>\n",
       "      <td>-75</td>\n",
       "      <td>-117</td>\n",
       "      <td>10</td>\n",
       "      <td>24</td>\n",
       "      <td>-87</td>\n",
       "      <td>-28</td>\n",
       "      <td>-28</td>\n",
       "      <td>...</td>\n",
       "      <td>-73</td>\n",
       "      <td>-127</td>\n",
       "      <td>51</td>\n",
       "      <td>128</td>\n",
       "      <td>144</td>\n",
       "      <td>43</td>\n",
       "      <td>-30</td>\n",
       "      <td>14</td>\n",
       "      <td>26</td>\n",
       "      <td>1.0</td>\n",
       "    </tr>\n",
       "    <tr>\n",
       "      <th>4</th>\n",
       "      <td>42</td>\n",
       "      <td>-191</td>\n",
       "      <td>-142</td>\n",
       "      <td>-65</td>\n",
       "      <td>-117</td>\n",
       "      <td>55</td>\n",
       "      <td>49</td>\n",
       "      <td>-170</td>\n",
       "      <td>-45</td>\n",
       "      <td>6</td>\n",
       "      <td>...</td>\n",
       "      <td>-300</td>\n",
       "      <td>61</td>\n",
       "      <td>51</td>\n",
       "      <td>127</td>\n",
       "      <td>143</td>\n",
       "      <td>42</td>\n",
       "      <td>-31</td>\n",
       "      <td>14</td>\n",
       "      <td>26</td>\n",
       "      <td>1.0</td>\n",
       "    </tr>\n",
       "  </tbody>\n",
       "</table>\n",
       "<p>5 rows × 167 columns</p>\n",
       "</div>"
      ],
      "text/plain": [
       "   42  -198  -109  -75  -117  11  23  -88  -28  -27  ...  -74  -129  -120.2  \\\n",
       "0  42  -191  -142  -65  -117  55  49 -170  -45    5  ... -302    60    -120   \n",
       "1  42  -191  -142  -75  -117  11  49 -161  -45  -28  ...  -73  -127    -120   \n",
       "2  42  -198  -110  -65  -117  55  23  -95  -28    5  ... -302    60    -120   \n",
       "3  42  -198  -102  -75  -117  10  24  -87  -28  -28  ...  -73  -127      51   \n",
       "4  42  -191  -142  -65  -117  55  49 -170  -45    6  ... -300    61      51   \n",
       "\n",
       "   -38.1   30  48.1  -37.2  6.1  30.1   1.  \n",
       "0    -39   31    48    -37    5    30  1.0  \n",
       "1    -38   30    48    -37    5    31  1.0  \n",
       "2    -39   30    48    -37    6    30  1.0  \n",
       "3    128  144    43    -30   14    26  1.0  \n",
       "4    127  143    42    -31   14    26  1.0  \n",
       "\n",
       "[5 rows x 167 columns]"
      ]
     },
     "execution_count": 7,
     "metadata": {},
     "output_type": "execute_result"
    }
   ],
   "source": [
    "data_train.head()"
   ]
  },
  {
   "cell_type": "code",
   "execution_count": 8,
   "id": "47a74560",
   "metadata": {},
   "outputs": [
    {
     "data": {
      "text/html": [
       "<div>\n",
       "<style scoped>\n",
       "    .dataframe tbody tr th:only-of-type {\n",
       "        vertical-align: middle;\n",
       "    }\n",
       "\n",
       "    .dataframe tbody tr th {\n",
       "        vertical-align: top;\n",
       "    }\n",
       "\n",
       "    .dataframe thead th {\n",
       "        text-align: right;\n",
       "    }\n",
       "</style>\n",
       "<table border=\"1\" class=\"dataframe\">\n",
       "  <thead>\n",
       "    <tr style=\"text-align: right;\">\n",
       "      <th></th>\n",
       "      <th>46</th>\n",
       "      <th>-108</th>\n",
       "      <th>-60</th>\n",
       "      <th>-69</th>\n",
       "      <th>-117</th>\n",
       "      <th>49</th>\n",
       "      <th>38</th>\n",
       "      <th>-161</th>\n",
       "      <th>-8</th>\n",
       "      <th>5</th>\n",
       "      <th>...</th>\n",
       "      <th>-244</th>\n",
       "      <th>-308.1</th>\n",
       "      <th>52</th>\n",
       "      <th>-7</th>\n",
       "      <th>39</th>\n",
       "      <th>126</th>\n",
       "      <th>156</th>\n",
       "      <th>-50.1</th>\n",
       "      <th>-112</th>\n",
       "      <th>96</th>\n",
       "    </tr>\n",
       "  </thead>\n",
       "  <tbody>\n",
       "    <tr>\n",
       "      <th>0</th>\n",
       "      <td>41</td>\n",
       "      <td>-188</td>\n",
       "      <td>-145</td>\n",
       "      <td>22</td>\n",
       "      <td>-117</td>\n",
       "      <td>-6</td>\n",
       "      <td>57</td>\n",
       "      <td>-171</td>\n",
       "      <td>-39</td>\n",
       "      <td>-100</td>\n",
       "      <td>...</td>\n",
       "      <td>-235</td>\n",
       "      <td>-59</td>\n",
       "      <td>-2</td>\n",
       "      <td>52</td>\n",
       "      <td>103</td>\n",
       "      <td>136</td>\n",
       "      <td>169</td>\n",
       "      <td>-61</td>\n",
       "      <td>-136</td>\n",
       "      <td>79</td>\n",
       "    </tr>\n",
       "    <tr>\n",
       "      <th>1</th>\n",
       "      <td>46</td>\n",
       "      <td>-194</td>\n",
       "      <td>-145</td>\n",
       "      <td>28</td>\n",
       "      <td>-117</td>\n",
       "      <td>73</td>\n",
       "      <td>57</td>\n",
       "      <td>-168</td>\n",
       "      <td>-39</td>\n",
       "      <td>-22</td>\n",
       "      <td>...</td>\n",
       "      <td>-238</td>\n",
       "      <td>-134</td>\n",
       "      <td>-154</td>\n",
       "      <td>57</td>\n",
       "      <td>143</td>\n",
       "      <td>142</td>\n",
       "      <td>165</td>\n",
       "      <td>-67</td>\n",
       "      <td>-145</td>\n",
       "      <td>39</td>\n",
       "    </tr>\n",
       "    <tr>\n",
       "      <th>2</th>\n",
       "      <td>41</td>\n",
       "      <td>-188</td>\n",
       "      <td>-145</td>\n",
       "      <td>22</td>\n",
       "      <td>-117</td>\n",
       "      <td>-7</td>\n",
       "      <td>57</td>\n",
       "      <td>-170</td>\n",
       "      <td>-39</td>\n",
       "      <td>-99</td>\n",
       "      <td>...</td>\n",
       "      <td>-236</td>\n",
       "      <td>-60</td>\n",
       "      <td>-4</td>\n",
       "      <td>52</td>\n",
       "      <td>104</td>\n",
       "      <td>136</td>\n",
       "      <td>168</td>\n",
       "      <td>-60</td>\n",
       "      <td>-135</td>\n",
       "      <td>80</td>\n",
       "    </tr>\n",
       "    <tr>\n",
       "      <th>3</th>\n",
       "      <td>41</td>\n",
       "      <td>-188</td>\n",
       "      <td>-145</td>\n",
       "      <td>22</td>\n",
       "      <td>-117</td>\n",
       "      <td>-7</td>\n",
       "      <td>57</td>\n",
       "      <td>-170</td>\n",
       "      <td>-39</td>\n",
       "      <td>-99</td>\n",
       "      <td>...</td>\n",
       "      <td>-236</td>\n",
       "      <td>-60</td>\n",
       "      <td>-4</td>\n",
       "      <td>52</td>\n",
       "      <td>104</td>\n",
       "      <td>137</td>\n",
       "      <td>168</td>\n",
       "      <td>-60</td>\n",
       "      <td>-135</td>\n",
       "      <td>80</td>\n",
       "    </tr>\n",
       "    <tr>\n",
       "      <th>4</th>\n",
       "      <td>46</td>\n",
       "      <td>-194</td>\n",
       "      <td>-145</td>\n",
       "      <td>28</td>\n",
       "      <td>-117</td>\n",
       "      <td>72</td>\n",
       "      <td>57</td>\n",
       "      <td>-168</td>\n",
       "      <td>-39</td>\n",
       "      <td>-22</td>\n",
       "      <td>...</td>\n",
       "      <td>-239</td>\n",
       "      <td>-138</td>\n",
       "      <td>-156</td>\n",
       "      <td>56</td>\n",
       "      <td>143</td>\n",
       "      <td>142</td>\n",
       "      <td>164</td>\n",
       "      <td>-67</td>\n",
       "      <td>-145</td>\n",
       "      <td>40</td>\n",
       "    </tr>\n",
       "  </tbody>\n",
       "</table>\n",
       "<p>5 rows × 166 columns</p>\n",
       "</div>"
      ],
      "text/plain": [
       "   46  -108  -60  -69  -117  49  38  -161  -8    5  ...  -244  -308.1   52  \\\n",
       "0  41  -188 -145   22  -117  -6  57  -171 -39 -100  ...  -235     -59   -2   \n",
       "1  46  -194 -145   28  -117  73  57  -168 -39  -22  ...  -238    -134 -154   \n",
       "2  41  -188 -145   22  -117  -7  57  -170 -39  -99  ...  -236     -60   -4   \n",
       "3  41  -188 -145   22  -117  -7  57  -170 -39  -99  ...  -236     -60   -4   \n",
       "4  46  -194 -145   28  -117  72  57  -168 -39  -22  ...  -239    -138 -156   \n",
       "\n",
       "   -7   39  126  156  -50.1  -112  96  \n",
       "0  52  103  136  169    -61  -136  79  \n",
       "1  57  143  142  165    -67  -145  39  \n",
       "2  52  104  136  168    -60  -135  80  \n",
       "3  52  104  137  168    -60  -135  80  \n",
       "4  56  143  142  164    -67  -145  40  \n",
       "\n",
       "[5 rows x 166 columns]"
      ]
     },
     "execution_count": 8,
     "metadata": {},
     "output_type": "execute_result"
    }
   ],
   "source": [
    "X_test.head()"
   ]
  },
  {
   "cell_type": "markdown",
   "id": "6e565071",
   "metadata": {},
   "source": [
    "#### Normalize the data"
   ]
  },
  {
   "cell_type": "code",
   "execution_count": 9,
   "id": "28cdf956",
   "metadata": {},
   "outputs": [],
   "source": [
    "X_train_norm = (X_train - np.average(X_train)) / (np.std(X_train))\n",
    "X_test_norm = (X_test - np.average(X_test)) / (np.std(X_test))"
   ]
  },
  {
   "cell_type": "markdown",
   "id": "68a75806",
   "metadata": {},
   "source": [
    "با روش دیگری میتوان داده ها را نرمال سازی کرد که داده را از حداقل کم میکنیم و بر حداکثر منهای حداقل تقسیم میکنیم ولی با این روش دقت بهتر شد"
   ]
  },
  {
   "cell_type": "code",
   "execution_count": 44,
   "id": "6c9d8993",
   "metadata": {},
   "outputs": [],
   "source": [
    "w,c = logistic_regression(X_train_norm,y_train,learning_rate=0.00001,num_iterations=1000,add_intercept= 0)"
   ]
  },
  {
   "cell_type": "code",
   "execution_count": 45,
   "id": "6a774572",
   "metadata": {},
   "outputs": [
    {
     "data": {
      "image/png": "[encoded data removed]",
      "text/plain": [
       "<Figure size 432x288 with 1 Axes>"
      ]
     },
     "metadata": {
      "needs_background": "light"
     },
     "output_type": "display_data"
    }
   ],
   "source": [
    "plt.plot(c)\n",
    "plt.xlabel(\"number of iterations\")\n",
    "plt.ylabel(\"cost function\")\n",
    "plt.show()"
   ]
  },
  {
   "cell_type": "code",
   "execution_count": 12,
   "id": "17948f75",
   "metadata": {},
   "outputs": [],
   "source": [
    "y_pred =predict(X_test_norm,w,0)"
   ]
  },
  {
   "cell_type": "code",
   "execution_count": 13,
   "id": "36033922",
   "metadata": {},
   "outputs": [],
   "source": [
    "acc = np.sum(np.equal(y_test, y_pred)) / len(y_test)"
   ]
  },
  {
   "cell_type": "code",
   "execution_count": 14,
   "id": "ff399f79",
   "metadata": {},
   "outputs": [
    {
     "data": {
      "text/plain": [
       "0.804456571168713"
      ]
     },
     "execution_count": 14,
     "metadata": {},
     "output_type": "execute_result"
    }
   ],
   "source": [
    "acc"
   ]
  },
  {
   "cell_type": "code",
   "execution_count": 15,
   "id": "68cb405d",
   "metadata": {},
   "outputs": [],
   "source": [
    "error = 1-acc"
   ]
  },
  {
   "cell_type": "code",
   "execution_count": 16,
   "id": "c149bdce",
   "metadata": {},
   "outputs": [
    {
     "data": {
      "text/plain": [
       "0.19554342883128695"
      ]
     },
     "execution_count": 16,
     "metadata": {},
     "output_type": "execute_result"
    }
   ],
   "source": [
    "error"
   ]
  },
  {
   "cell_type": "code",
   "execution_count": 17,
   "id": "aebc57fa",
   "metadata": {},
   "outputs": [],
   "source": [
    "w1,c1 = logistic_regression(X_train_norm,y_train,learning_rate=0.0000001,num_iterations=1000,add_intercept= 0)"
   ]
  },
  {
   "cell_type": "code",
   "execution_count": 18,
   "id": "00613228",
   "metadata": {},
   "outputs": [
    {
     "data": {
      "image/png": "[encoded data removed]",
      "text/plain": [
       "<Figure size 432x288 with 1 Axes>"
      ]
     },
     "metadata": {
      "needs_background": "light"
     },
     "output_type": "display_data"
    }
   ],
   "source": [
    "plt.plot(c1)\n",
    "plt.xlabel(\"number of iterations\")\n",
    "plt.ylabel(\"cost function\")\n",
    "plt.show()"
   ]
  },
  {
   "cell_type": "markdown",
   "id": "51e986fc",
   "metadata": {},
   "source": [
    "زمانی که نرخ یادگیری را خیلی خیلی کوچک در نظر گرفتیم خطا زیاد تغییری نکرده و مقدار کمتری کاهش پیدا کرده است همچنین اگر نرخ یادگیری را بزرگ در نظر بگیریم نویزی میشود  و خطا همچنان زیاد است مقدار مناسب آن :0.00001"
   ]
  },
  {
   "cell_type": "code",
   "execution_count": 19,
   "id": "6b55fd92",
   "metadata": {},
   "outputs": [],
   "source": [
    "y_pred1 =predict(X_test_norm,w1,0)"
   ]
  },
  {
   "cell_type": "code",
   "execution_count": 20,
   "id": "c09df768",
   "metadata": {},
   "outputs": [],
   "source": [
    "acc1 = np.sum(np.equal(y_test, y_pred1)) / len(y_test)"
   ]
  },
  {
   "cell_type": "code",
   "execution_count": 21,
   "id": "eec4f066",
   "metadata": {},
   "outputs": [
    {
     "data": {
      "text/plain": [
       "0.8475064423222677"
      ]
     },
     "execution_count": 21,
     "metadata": {},
     "output_type": "execute_result"
    }
   ],
   "source": [
    "acc1"
   ]
  },
  {
   "cell_type": "code",
   "execution_count": 22,
   "id": "a9801b60",
   "metadata": {},
   "outputs": [],
   "source": [
    "error1 = 1-acc1 "
   ]
  },
  {
   "cell_type": "code",
   "execution_count": 23,
   "id": "4681f8d5",
   "metadata": {},
   "outputs": [
    {
     "data": {
      "text/plain": [
       "0.15249355767773232"
      ]
     },
     "execution_count": 23,
     "metadata": {},
     "output_type": "execute_result"
    }
   ],
   "source": [
    "error1"
   ]
  },
  {
   "cell_type": "markdown",
   "id": "e4e3d8b9",
   "metadata": {},
   "source": [
    "### Recall"
   ]
  },
  {
   "cell_type": "code",
   "execution_count": 24,
   "id": "9d1181e7",
   "metadata": {},
   "outputs": [],
   "source": [
    "from sklearn.metrics import recall_score"
   ]
  },
  {
   "cell_type": "code",
   "execution_count": 25,
   "id": "2d2055b7",
   "metadata": {},
   "outputs": [],
   "source": [
    "recall = recall_score(y_test, y_pred)"
   ]
  },
  {
   "cell_type": "code",
   "execution_count": 26,
   "id": "ec640c2d",
   "metadata": {},
   "outputs": [
    {
     "data": {
      "text/plain": [
       "0.6318897637795275"
      ]
     },
     "execution_count": 26,
     "metadata": {},
     "output_type": "execute_result"
    }
   ],
   "source": [
    "recall"
   ]
  },
  {
   "cell_type": "markdown",
   "id": "04aaef54",
   "metadata": {},
   "source": [
    "### Accuracy"
   ]
  },
  {
   "cell_type": "code",
   "execution_count": 27,
   "id": "8f01ee9d",
   "metadata": {},
   "outputs": [],
   "source": [
    "from sklearn.metrics import accuracy_score"
   ]
  },
  {
   "cell_type": "code",
   "execution_count": 28,
   "id": "b965f76d",
   "metadata": {},
   "outputs": [],
   "source": [
    "accuracy = accuracy_score(y_test, y_pred)"
   ]
  },
  {
   "cell_type": "code",
   "execution_count": 29,
   "id": "ea257476",
   "metadata": {},
   "outputs": [
    {
     "data": {
      "text/plain": [
       "0.804456571168713"
      ]
     },
     "execution_count": 29,
     "metadata": {},
     "output_type": "execute_result"
    }
   ],
   "source": [
    "accuracy"
   ]
  },
  {
   "cell_type": "markdown",
   "id": "dd8e5975",
   "metadata": {},
   "source": [
    "### F1 Score"
   ]
  },
  {
   "cell_type": "code",
   "execution_count": 30,
   "id": "9104c83a",
   "metadata": {},
   "outputs": [],
   "source": [
    "from sklearn.metrics import f1_score"
   ]
  },
  {
   "cell_type": "code",
   "execution_count": 31,
   "id": "f8abd2ed",
   "metadata": {},
   "outputs": [],
   "source": [
    "f1_score = f1_score(y_test, y_pred)"
   ]
  },
  {
   "cell_type": "code",
   "execution_count": 32,
   "id": "9c015c02",
   "metadata": {},
   "outputs": [
    {
     "data": {
      "text/plain": [
       "0.4988344988344988"
      ]
     },
     "execution_count": 32,
     "metadata": {},
     "output_type": "execute_result"
    }
   ],
   "source": [
    "f1_score"
   ]
  }
 ],
 "metadata": {
  "kernelspec": {
   "display_name": "Python 3 (ipykernel)",
   "language": "python",
   "name": "python3"
  },
  "language_info": {
   "codemirror_mode": {
    "name": "ipython",
    "version": 3
   },
   "file_extension": ".py",
   "mimetype": "text/x-python",
   "name": "python",
   "nbconvert_exporter": "python",
   "pygments_lexer": "ipython3",
   "version": "3.9.7"
  }
 },
 "nbformat": 4,
 "nbformat_minor": 5
}
