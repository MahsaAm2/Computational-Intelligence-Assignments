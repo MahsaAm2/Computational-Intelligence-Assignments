{
 "cells": [
  {
   "cell_type": "code",
   "execution_count": 1,
   "id": "7c92db5c",
   "metadata": {},
   "outputs": [],
   "source": [
    "import numpy as np\n",
    "import pandas as pd\n",
    "from sklearn.datasets import load_iris\n",
    "import matplotlib.pyplot as plt\n",
    "import random"
   ]
  },
  {
   "cell_type": "markdown",
   "id": "7f40ac4b",
   "metadata": {},
   "source": [
    "### load data"
   ]
  },
  {
   "cell_type": "code",
   "execution_count": 2,
   "id": "4fd5461b",
   "metadata": {},
   "outputs": [],
   "source": [
    "data = load_iris()"
   ]
  },
  {
   "cell_type": "markdown",
   "id": "22b600af",
   "metadata": {},
   "source": [
    "### قسمت الف"
   ]
  },
  {
   "cell_type": "markdown",
   "id": "47ca6ec4",
   "metadata": {},
   "source": [
    "### split data \n",
    "#### 80% for train and 20% for test"
   ]
  },
  {
   "cell_type": "code",
   "execution_count": 3,
   "id": "81102dbc",
   "metadata": {},
   "outputs": [],
   "source": [
    "X =data.data\n",
    "y = data.target"
   ]
  },
  {
   "cell_type": "code",
   "execution_count": 4,
   "id": "04348c90",
   "metadata": {},
   "outputs": [],
   "source": [
    "ratio = 0.8 \n",
    "total_rows = X.shape[0]\n",
    "train_size = int(total_rows*ratio) \n",
    "X_train = X[0:train_size]\n",
    "y_train = y[0:train_size]\n",
    "X_test = X[train_size:]\n",
    "y_test= y[train_size:]"
   ]
  },
  {
   "cell_type": "markdown",
   "id": "abced503",
   "metadata": {},
   "source": [
    "### توابع"
   ]
  },
  {
   "cell_type": "code",
   "execution_count": 5,
   "id": "383e05b1",
   "metadata": {},
   "outputs": [],
   "source": [
    "def sigmoid(z):\n",
    "    sig = 1.0/(1.0+np.exp(-z))\n",
    "    return sig"
   ]
  },
  {
   "cell_type": "code",
   "execution_count": 6,
   "id": "13a3366d",
   "metadata": {},
   "outputs": [],
   "source": [
    "def sigmoid_prime(z):\n",
    "    sig_prime = sigmoid(z)*(1-sigmoid(z))\n",
    "    return sig_prime"
   ]
  },
  {
   "cell_type": "code",
   "execution_count": 7,
   "id": "a0e84757",
   "metadata": {},
   "outputs": [],
   "source": [
    "def feedforward(w, a,b):\n",
    "    a = np.dot(w, a)+b\n",
    "    return a"
   ]
  },
  {
   "cell_type": "code",
   "execution_count": 8,
   "id": "1430d039",
   "metadata": {},
   "outputs": [],
   "source": [
    "def backprop(X, y, w1, w2, b1, b2):\n",
    "        z = feedforward(w1.T, X, b1)\n",
    "        a1 = sigmoid(z)\n",
    "\n",
    "        z1 = feedforward(w2.T, a1, b2)\n",
    "        a2 = sigmoid(z1)\n",
    "\n",
    "        error = np.square(y - a2) / 2\n",
    "\n",
    "        error2 = -(y - a2)\n",
    "        sp1 = sigmoid_prime(z1)\n",
    "       \n",
    "\n",
    "        wg2 = np.dot(a1,(error2 * sp1).T,)\n",
    "        bg2 = error2 * sp1\n",
    "\n",
    "\n",
    "        sp = sigmoid_prime(z)\n",
    "        wg1 = np.dot(X, (sp* np.dot(w2,(sp1 * error2),)  ).T,)\n",
    "        bg1 =  sp* np.dot(w2,(sp1 * error2),)\n",
    "        \n",
    "        return wg1, wg2, bg1, bg2, error\n",
    "\n",
    "    "
   ]
  },
  {
   "cell_type": "markdown",
   "id": "b5275da7",
   "metadata": {},
   "source": [
    "### قسمت ب"
   ]
  },
  {
   "cell_type": "code",
   "execution_count": 9,
   "id": "9aee19a7",
   "metadata": {},
   "outputs": [],
   "source": [
    "def train_SGD(X,y, num_epochs, learning_rate):\n",
    " \n",
    "    input_layer = X.shape[1]\n",
    "    hidden_layer = 10  \n",
    "    output_layer = 3 \n",
    "    \n",
    "    w1 = np.random.uniform(size=(input_layer, hidden_layer))\n",
    "    w2 = np.random.uniform(size=(hidden_layer, output_layer))\n",
    "    b1 = np.random.uniform(size=(hidden_layer, 1))\n",
    "    b2 = np.random.uniform(size=(output_layer, 1))\n",
    "\n",
    " \n",
    "    losses = []\n",
    "    \n",
    "    \n",
    "    for epoch in range(num_epochs):\n",
    "        for i in range(len(y)):\n",
    "            random_index = np.random.randint(len(y))\n",
    "            \n",
    "           \n",
    "            xi = X[random_index:random_index+1]\n",
    "            yi = y[random_index:random_index+1]\n",
    "            xi =xi.T\n",
    "            yi=yi.T\n",
    "          \n",
    "            wg1,wg2,bg1,bg2,error=backprop(xi,yi,w1, w2, b1, b2)\n",
    "    \n",
    "            w2 = w2 - learning_rate * wg2\n",
    "            w1 = w1 - learning_rate * wg1\n",
    "            b1 = b1 - learning_rate * bg1\n",
    "            b2 = b2 - learning_rate * bg2\n",
    "                 \n",
    "        \n",
    "    return w1,w2, b1,b2"
   ]
  },
  {
   "cell_type": "code",
   "execution_count": 10,
   "id": "4c893753",
   "metadata": {},
   "outputs": [],
   "source": [
    "w1, w2, b1, b2 = train_SGD(X_train, y_train, 1000, 0.001)"
   ]
  },
  {
   "cell_type": "markdown",
   "id": "d615c595",
   "metadata": {},
   "source": [
    "### قسمت ج"
   ]
  },
  {
   "cell_type": "code",
   "execution_count": 11,
   "id": "45a5927b",
   "metadata": {},
   "outputs": [],
   "source": [
    "def create_batch(X, y, batch_size):\n",
    "    m = X.shape[0]\n",
    "    new_data = [i for i in range(1, m) if not i%batch_size]\n",
    "    x_batch = np.split(X, new_data, axis=0)\n",
    "    y_batch = np.split(y, new_data, axis=0)\n",
    "    return x_batch, y_batch"
   ]
  },
  {
   "cell_type": "code",
   "execution_count": 12,
   "id": "d03d9bbb",
   "metadata": {},
   "outputs": [],
   "source": [
    "def train_minibatchGD(X, y,num_epochs, learning_rate):\n",
    "   \n",
    "    input_layer = X.shape[1] \n",
    "    hidden_layer = 10  \n",
    "    output_layer = 3 \n",
    "    batch_size = 5\n",
    "    w1 = np.random.uniform(size=(input_layer, hidden_layer))\n",
    "    w2 = np.random.uniform(size=(hidden_layer, output_layer))\n",
    "    b1 = np.random.uniform(size=(hidden_layer, 1))\n",
    "    b2 = np.random.uniform(size=(output_layer, 1))\n",
    "    \n",
    "\n",
    "\n",
    "    iteration = int(np.ceil(len(X) / batch_size))\n",
    "    for i in range(num_epochs): \n",
    "        for batch in range(iteration):\n",
    "            X_mini, y_mini = create_batch(X, y, batch_size)\n",
    "            x1= X_mini[batch]\n",
    "            y1=y_mini[batch]\n",
    "            x1=x1.T\n",
    "            y1=y1.T\n",
    "            \n",
    "            wg1,wg2,bg1,bg2, error=backprop(x1,y1,w1, w2, b1, b2)\n",
    "            w2 = w2 - learning_rate * wg2\n",
    "            w1 = w1 - learning_rate * wg1 \n",
    "            b1 = b1 - learning_rate * bg1\n",
    "            b2 = b2 - learning_rate * bg2\n",
    "             \n",
    "    return w1, w2, b1, b2"
   ]
  },
  {
   "cell_type": "code",
   "execution_count": 13,
   "id": "3ce1dae6",
   "metadata": {},
   "outputs": [],
   "source": [
    "w1, w2, b1, b2 = train_minibatchGD(X_train, y_train, 1000, 0.001)"
   ]
  },
  {
   "cell_type": "markdown",
   "id": "a198da71",
   "metadata": {},
   "source": [
    "### قسمت د"
   ]
  },
  {
   "cell_type": "code",
   "execution_count": 14,
   "id": "d9739a7f",
   "metadata": {},
   "outputs": [],
   "source": [
    "def train_GD(X,y, num_epochs, learning_rate):\n",
    "  \n",
    "    X = X.T\n",
    "    y = y.reshape(1, -1)\n",
    "    input_layer = X.shape[0]  \n",
    "    hidden_layer = 4 \n",
    "    output_layer = 3 \n",
    "    \n",
    "    w1 = np.random.uniform(size=(input_layer, hidden_layer))\n",
    "    w2 = np.random.uniform(size=(hidden_layer, output_layer))\n",
    "    \n",
    "    b1 = np.random.uniform(size=(hidden_layer, 1))\n",
    "    b2 = np.random.uniform(size=(output_layer, 1))\n",
    "    \n",
    "    losses = []\n",
    "    \n",
    "    \n",
    "    for epoch in range(num_epochs):\n",
    "        wg1,wg2,bg1,bg2,error=backprop(X,y,w1, w2,b1,b2)\n",
    "    \n",
    "        w2 = w2 -  learning_rate * wg2\n",
    "        w1 = w1 - learning_rate * wg1\n",
    "        \n",
    "        b1 = b1 - learning_rate * bg1\n",
    "        b2 = b2 - learning_rate * bg2\n",
    "        epoch_loss = np.average(error)\n",
    "        if epoch % 1000 == 0:\n",
    "            print(f\"Error at epoch {epoch} is {epoch_loss:.5f}\")\n",
    "\n",
    "        losses.append(epoch_loss)       \n",
    "        \n",
    "    return w1,w2,b1,b2, losses"
   ]
  },
  {
   "cell_type": "code",
   "execution_count": null,
   "id": "6a4f6c96",
   "metadata": {},
   "outputs": [
    {
     "name": "stdout",
     "output_type": "stream",
     "text": [
      "Error at epoch 0 is 0.27387\n",
      "Error at epoch 1000 is 0.08531\n",
      "Error at epoch 2000 is 0.08429\n",
      "Error at epoch 3000 is 0.08396\n"
     ]
    }
   ],
   "source": [
    "w1, w2,b1,b2,losses = train_GD(X_train, y_train, 10000, 0.01)"
   ]
  },
  {
   "cell_type": "code",
   "execution_count": 16,
   "id": "2907ee21",
   "metadata": {},
   "outputs": [
    {
     "data": {
      "image/png": "[encoded data removed]",
      "text/plain": [
       "<Figure size 432x288 with 1 Axes>"
      ]
     },
     "metadata": {
      "needs_background": "light"
     },
     "output_type": "display_data"
    }
   ],
   "source": [
    "plt.plot(losses)\n",
    "plt.show()"
   ]
  },
  {
   "cell_type": "markdown",
   "id": "004a0c0f",
   "metadata": {},
   "source": [
    "### قسمت ه"
   ]
  },
  {
   "cell_type": "code",
   "execution_count": 17,
   "id": "41eab9a7",
   "metadata": {},
   "outputs": [
    {
     "name": "stdout",
     "output_type": "stream",
     "text": [
      "Error at epoch 0 is 0.62304\n",
      "Error at epoch 1000 is 0.50082\n",
      "Error at epoch 2000 is 0.50041\n",
      "Error at epoch 3000 is 0.50027\n",
      "Error at epoch 4000 is 0.50021\n",
      "Error at epoch 5000 is 0.50016\n",
      "Error at epoch 6000 is 0.50014\n",
      "Error at epoch 7000 is 0.50012\n",
      "Error at epoch 8000 is 0.50010\n",
      "Error at epoch 9000 is 0.50009\n"
     ]
    }
   ],
   "source": [
    "w1, w2, b1,b2,losses = train_GD(X_test, y_test, 10000, 0.01)"
   ]
  },
  {
   "cell_type": "code",
   "execution_count": 18,
   "id": "4dd5da18",
   "metadata": {},
   "outputs": [
    {
     "data": {
      "image/png": "[encoded data removed]",
      "text/plain": [
       "<Figure size 432x288 with 1 Axes>"
      ]
     },
     "metadata": {
      "needs_background": "light"
     },
     "output_type": "display_data"
    }
   ],
   "source": [
    "plt.plot(losses)\n",
    "plt.show()"
   ]
  },
  {
   "cell_type": "markdown",
   "id": "d3eb42f9",
   "metadata": {},
   "source": [
    "### قسمت و"
   ]
  },
  {
   "cell_type": "code",
   "execution_count": 19,
   "id": "2e8632b1",
   "metadata": {},
   "outputs": [],
   "source": [
    "def grad_and_numerical_derivative(X,y):\n",
    "  \n",
    "    input_layer = X.shape[1] \n",
    "    hidden_layer = 10 \n",
    "    output_layer = 3 \n",
    "    \n",
    "    random_index = np.random.randint(len(y))\n",
    "    xi = X[random_index:random_index+1]\n",
    "    yi = y[random_index:random_index+1]\n",
    "    \n",
    "    xi=xi.T\n",
    "    yi =yi.T\n",
    "    \n",
    "    w1 = np.random.uniform(size=(input_layer, hidden_layer))\n",
    "    w2 = np.random.uniform(size=(hidden_layer, output_layer))\n",
    "    b1 = np.random.uniform(size=(hidden_layer, 1))\n",
    "    b2 = np.random.uniform(size=(output_layer, 1))\n",
    "      \n",
    " \n",
    "    w1_grad,w2_grad,b1_grad,b2_grad, error=backprop(xi,yi,w1, w2, b1, b2)\n",
    "    \n",
    "    l_w2_grad= np.square(yi-sigmoid(np.dot(w2.T+w2_grad.T,(sigmoid(np.dot(w1.T,xi)+b1)))+b2))/2\n",
    "    \n",
    "\n",
    "    # (np.square(y-sigmoid(np.dot(w2.T,(sigmoid(np.dot(w1.T,x)+b1)))+b2))/2\n",
    "    \n",
    "    epsilon=np.finfo('float').eps\n",
    "    temp1 =(np.square(yi-sigmoid(np.dot(w2.T+epsilon,(sigmoid(np.dot(w1.T,xi)+b1)))+b2))/2)\n",
    "    temp2=(np.square(yi-sigmoid(np.dot(w2.T-epsilon,(sigmoid(np.dot(w1.T,xi)+b1)))+b2))/2)\n",
    "    l_numderivative_w2 = (temp1-temp2/2*epsilon)\n",
    "   \n",
    "    \n",
    "    print('for W2')\n",
    "    print('numerical derivative')\n",
    "    print(l_numderivative_w2)\n",
    "    print('back propagation')\n",
    "    print(l_w2_grad)\n",
    "    print('--------------------------')\n",
    "    \n",
    "    l_w1_grad= np.square(yi-sigmoid(np.dot(w2.T,(sigmoid(np.dot(w1.T+w1_grad.T,xi)+b1)))+b2))/2\n",
    "    \n",
    "    temp1 =(np.square(yi-sigmoid(np.dot(w2.T,(sigmoid(np.dot(w1.T+epsilon,xi)+b1)))+b2))/2)\n",
    "    temp2=(np.square(yi-sigmoid(np.dot(w2.T,(sigmoid(np.dot(w1.T-epsilon,xi)+b1)))+b2))/2)  \n",
    "    l_numderivative_w1 = (temp1-temp2/2*epsilon)\n",
    "    \n",
    "    print('for W1')\n",
    "    print('numerical derivative')\n",
    "    print(l_numderivative_w1)\n",
    "    print('back propagation')\n",
    "    print(l_w1_grad)\n",
    "    print('--------------------------')\n",
    "    \n",
    "    l_b2_grad= np.square(yi-sigmoid(np.dot(w2.T,(sigmoid(np.dot(w1.T,xi)+b1)))+b2+b2_grad))/2\n",
    "    \n",
    "    temp1 =(np.square(yi-sigmoid(np.dot(w2.T,(sigmoid(np.dot(w1.T,xi)+b1)))+b2+epsilon))/2)\n",
    "    temp2=(np.square(yi-sigmoid(np.dot(w2.T,(sigmoid(np.dot(w1.T,xi)+b1)))+b2-epsilon))/2)  \n",
    "    l_numderivative_b2 = (temp1-temp2/2*epsilon)\n",
    "    \n",
    "    print('for b2')\n",
    "    print('numerical derivative')\n",
    "    print(l_numderivative_b2)\n",
    "    print('back propagation')\n",
    "    print(l_b2_grad)\n",
    "    print('--------------------------')\n",
    "    \n",
    "    \n",
    "    l_b1_grad= np.square(yi-sigmoid(np.dot(w2.T,(sigmoid(np.dot(w1.T,xi)+b1+b1_grad)))+b2))/2\n",
    "    \n",
    "    temp1 =(np.square(yi-sigmoid(np.dot(w2.T,(sigmoid(np.dot(w1.T,xi)+b1+epsilon)))+b2))/2)\n",
    "    temp2=(np.square(yi-sigmoid(np.dot(w2.T,(sigmoid(np.dot(w1.T,xi)+b1-epsilon)))+b2))/2)  \n",
    "    l_numderivative_b1 = (temp1-temp2/2*epsilon)\n",
    "    \n",
    "    print('for b1')\n",
    "    print('numerical derivative')\n",
    "    print(l_numderivative_b1)\n",
    "    print('back propagation')\n",
    "    print(l_b1_grad)\n",
    "    \n"
   ]
  },
  {
   "cell_type": "code",
   "execution_count": 20,
   "id": "076377f8",
   "metadata": {},
   "outputs": [
    {
     "name": "stdout",
     "output_type": "stream",
     "text": [
      "for W2\n",
      "numerical derivative\n",
      "[[4.17461486e-07]\n",
      " [1.14941810e-06]\n",
      " [1.89929369e-05]]\n",
      "back propagation\n",
      "[[4.17468431e-07]\n",
      " [1.14947069e-06]\n",
      " [1.90071679e-05]]\n",
      "--------------------------\n",
      "for W1\n",
      "numerical derivative\n",
      "[[4.17461486e-07]\n",
      " [1.14941810e-06]\n",
      " [1.89929369e-05]]\n",
      "back propagation\n",
      "[[4.17461498e-07]\n",
      " [1.14941811e-06]\n",
      " [1.89929375e-05]]\n",
      "--------------------------\n",
      "for b2\n",
      "numerical derivative\n",
      "[[4.17461486e-07]\n",
      " [1.14941810e-06]\n",
      " [1.89929369e-05]]\n",
      "back propagation\n",
      "[[4.17462182e-07]\n",
      " [1.14942337e-06]\n",
      " [1.89943621e-05]]\n",
      "--------------------------\n",
      "for b1\n",
      "numerical derivative\n",
      "[[4.17461486e-07]\n",
      " [1.14941810e-06]\n",
      " [1.89929369e-05]]\n",
      "back propagation\n",
      "[[4.17461486e-07]\n",
      " [1.14941810e-06]\n",
      " [1.89929369e-05]]\n"
     ]
    }
   ],
   "source": [
    "grad_and_numerical_derivative(X_train,y_train)"
   ]
  },
  {
   "cell_type": "markdown",
   "id": "21ecaef9",
   "metadata": {},
   "source": [
    "### قسمت ز"
   ]
  },
  {
   "cell_type": "code",
   "execution_count": 21,
   "id": "aa0ffa53",
   "metadata": {},
   "outputs": [
    {
     "name": "stdout",
     "output_type": "stream",
     "text": [
      "Error at epoch 0 is 0.28486\n",
      "Error at epoch 1000 is 0.10622\n",
      "Error at epoch 2000 is 0.10515\n",
      "Error at epoch 3000 is 0.10481\n",
      "Error at epoch 4000 is 0.10464\n",
      "Error at epoch 5000 is 0.10455\n",
      "Error at epoch 6000 is 0.10448\n",
      "Error at epoch 7000 is 0.10444\n",
      "Error at epoch 8000 is 0.10440\n",
      "Error at epoch 9000 is 0.10438\n"
     ]
    },
    {
     "data": {
      "image/png": "[encoded data removed]",
      "text/plain": [
       "<Figure size 432x288 with 1 Axes>"
      ]
     },
     "metadata": {
      "needs_background": "light"
     },
     "output_type": "display_data"
    }
   ],
   "source": [
    "X1_train = X[5:train_size+5]\n",
    "y1_train = y[5:train_size+5]\n",
    "w1, w2,b1,b2,losses = train_GD(X1_train, y1_train, 10000, 0.01)\n",
    "plt.plot(losses)\n",
    "plt.show()"
   ]
  },
  {
   "cell_type": "code",
   "execution_count": 22,
   "id": "558452cb",
   "metadata": {},
   "outputs": [
    {
     "name": "stdout",
     "output_type": "stream",
     "text": [
      "Error at epoch 0 is 0.28830\n",
      "Error at epoch 1000 is 0.12614\n",
      "Error at epoch 2000 is 0.12554\n",
      "Error at epoch 3000 is 0.12536\n",
      "Error at epoch 4000 is 0.12526\n",
      "Error at epoch 5000 is 0.12521\n",
      "Error at epoch 6000 is 0.12517\n",
      "Error at epoch 7000 is 0.12515\n",
      "Error at epoch 8000 is 0.12513\n",
      "Error at epoch 9000 is 0.12512\n"
     ]
    },
    {
     "data": {
      "image/png": "[encoded data removed]",
      "text/plain": [
       "<Figure size 432x288 with 1 Axes>"
      ]
     },
     "metadata": {
      "needs_background": "light"
     },
     "output_type": "display_data"
    }
   ],
   "source": [
    "X2_train = X[10:train_size+10]\n",
    "y2_train = y[10:train_size+10]\n",
    "w1, w2,b1,b2,losses = train_GD(X2_train, y2_train, 10000, 0.01)\n",
    "plt.plot(losses)\n",
    "plt.show()"
   ]
  },
  {
   "cell_type": "code",
   "execution_count": 23,
   "id": "38b4b7c8",
   "metadata": {},
   "outputs": [
    {
     "name": "stdout",
     "output_type": "stream",
     "text": [
      "Error at epoch 0 is 0.29673\n",
      "Error at epoch 1000 is 0.14828\n",
      "Error at epoch 2000 is 0.14691\n",
      "Error at epoch 3000 is 0.14652\n",
      "Error at epoch 4000 is 0.14633\n",
      "Error at epoch 5000 is 0.14623\n",
      "Error at epoch 6000 is 0.14616\n",
      "Error at epoch 7000 is 0.14611\n",
      "Error at epoch 8000 is 0.14608\n",
      "Error at epoch 9000 is 0.14605\n"
     ]
    },
    {
     "data": {
      "image/png": "[encoded data removed]",
      "text/plain": [
       "<Figure size 432x288 with 1 Axes>"
      ]
     },
     "metadata": {
      "needs_background": "light"
     },
     "output_type": "display_data"
    }
   ],
   "source": [
    "X1_train = X[15:train_size+15]\n",
    "y1_train = y[15:train_size+15]\n",
    "w1, w2,b1,b2,losses = train_GD(X1_train, y1_train, 10000, 0.01)\n",
    "plt.plot(losses)\n",
    "plt.show()"
   ]
  },
  {
   "cell_type": "markdown",
   "id": "da3b3124",
   "metadata": {},
   "source": [
    "همان طور که مشاهده میکنیم صرفا باهم تفاوت جزئی دارند."
   ]
  }
 ],
 "metadata": {
  "kernelspec": {
   "display_name": "Python 3 (ipykernel)",
   "language": "python",
   "name": "python3"
  },
  "language_info": {
   "codemirror_mode": {
    "name": "ipython",
    "version": 3
   },
   "file_extension": ".py",
   "mimetype": "text/x-python",
   "name": "python",
   "nbconvert_exporter": "python",
   "pygments_lexer": "ipython3",
   "version": "3.9.7"
  }
 },
 "nbformat": 4,
 "nbformat_minor": 5
}
